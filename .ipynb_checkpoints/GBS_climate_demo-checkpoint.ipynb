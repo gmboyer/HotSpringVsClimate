{
 "cells": [
  {
   "cell_type": "markdown",
   "metadata": {},
   "source": [
    "## Comparison of climate data and continuous temperature measurements of Great Boiling Springs, NV.\n",
    "\n",
    "As part of a proposal effort in 2013, I compared weather station climate data to round-the-clock temperature measurements of Great Boiling Springs in Gerlach, NV, which had been funded in a separate proposal. The goal was to identify patterns that might indicate  influence of air temperature and precipitation on this terrestrial hydrothermal system. Results shown here are nowhere near exhaustive (having been derived in Excel spreadsheets originally), but gave me an opportunity to wrangle with datasets early in my graduate student career.\n",
    "\n",
    "Temperature data from Great Boiling Springs in Gerlach, NV were recorded by Behar's Environmental Networking, Telemetry and Observation (BENTO) box. Data used here were compiled from [BENTO box 1](http://extremerobotics.lab.asu.edu/Bentobox/bentoData11.php) and [BENTO box 2](http://extremerobotics.lab.asu.edu/Bentobox/bentoData12.php) datasets available free online.\n",
    "\n",
    "\n",
    "Climate data were collected at the MFOXN2 weather station located in Gerlach, NV, except for a brief period between 9/7/12 and\n",
    "10/11/12 when the station went offline, at which point data from station MJSPN2 at the Derby Field airport in Lovelock, NV was used to fill the gap."
   ]
  },
  {
   "cell_type": "markdown",
   "metadata": {},
   "source": [
    "Researchers working at Great Boiling Springs, NV\n",
    "![pic](http://1ofdmq2n8tc36m6i46scovo2e-wpengine.netdna-ssl.com/wp-content/uploads/2016/01/1K-GBS_Brian-Hedlund_Kryptonia.jpg \"Great Boiling Springs, NV\")\n",
    "*photo credit: Brian Hedlund*"
   ]
  },
  {
   "cell_type": "code",
   "execution_count": 1,
   "metadata": {
    "collapsed": true
   },
   "outputs": [],
   "source": [
    "# read hot spring sensor and weather station data\n",
    "bento <- read.csv(\"BentoData.csv\")\n",
    "weather <- read.csv(\"WeatherData.csv\")"
   ]
  },
  {
   "cell_type": "code",
   "execution_count": 2,
   "metadata": {},
   "outputs": [
    {
     "data": {
      "text/html": [
       "'nrows and ncol of BENTO dataset:'"
      ],
      "text/latex": [
       "'nrows and ncol of BENTO dataset:'"
      ],
      "text/markdown": [
       "'nrows and ncol of BENTO dataset:'"
      ],
      "text/plain": [
       "[1] \"nrows and ncol of BENTO dataset:\""
      ]
     },
     "metadata": {},
     "output_type": "display_data"
    },
    {
     "data": {
      "text/html": [
       "<ol class=list-inline>\n",
       "\t<li>7383</li>\n",
       "\t<li>17</li>\n",
       "</ol>\n"
      ],
      "text/latex": [
       "\\begin{enumerate*}\n",
       "\\item 7383\n",
       "\\item 17\n",
       "\\end{enumerate*}\n"
      ],
      "text/markdown": [
       "1. 7383\n",
       "2. 17\n",
       "\n",
       "\n"
      ],
      "text/plain": [
       "[1] 7383   17"
      ]
     },
     "metadata": {},
     "output_type": "display_data"
    },
    {
     "data": {
      "text/html": [
       "'nrows and ncol of weather dataset:'"
      ],
      "text/latex": [
       "'nrows and ncol of weather dataset:'"
      ],
      "text/markdown": [
       "'nrows and ncol of weather dataset:'"
      ],
      "text/plain": [
       "[1] \"nrows and ncol of weather dataset:\""
      ]
     },
     "metadata": {},
     "output_type": "display_data"
    },
    {
     "data": {
      "text/html": [
       "<ol class=list-inline>\n",
       "\t<li>314</li>\n",
       "\t<li>16</li>\n",
       "</ol>\n"
      ],
      "text/latex": [
       "\\begin{enumerate*}\n",
       "\\item 314\n",
       "\\item 16\n",
       "\\end{enumerate*}\n"
      ],
      "text/markdown": [
       "1. 314\n",
       "2. 16\n",
       "\n",
       "\n"
      ],
      "text/plain": [
       "[1] 314  16"
      ]
     },
     "metadata": {},
     "output_type": "display_data"
    }
   ],
   "source": [
    "# get an idea as to the size of these datasets\n",
    "\"nrows and ncol of BENTO dataset:\"\n",
    "dim(bento)\n",
    "\"nrows and ncol of weather dataset:\"\n",
    "dim(weather)"
   ]
  },
  {
   "cell_type": "code",
   "execution_count": 3,
   "metadata": {},
   "outputs": [
    {
     "data": {
      "text/html": [
       "'BENTO temperature sensor readings from Great Boiling Springs, NV:'"
      ],
      "text/latex": [
       "'BENTO temperature sensor readings from Great Boiling Springs, NV:'"
      ],
      "text/markdown": [
       "'BENTO temperature sensor readings from Great Boiling Springs, NV:'"
      ],
      "text/plain": [
       "[1] \"BENTO temperature sensor readings from Great Boiling Springs, NV:\""
      ]
     },
     "metadata": {},
     "output_type": "display_data"
    },
    {
     "data": {
      "text/html": [
       "<table>\n",
       "<thead><tr><th scope=col>RecordTime</th><th scope=col>Battery.V.</th><th scope=col>Rate</th><th scope=col>Sensor0</th><th scope=col>Sensor1</th><th scope=col>Sensor2</th><th scope=col>Sensor3</th><th scope=col>Sensor4</th><th scope=col>Sensor5</th><th scope=col>Sensor6</th><th scope=col>Sensor7</th><th scope=col>Sensor8</th><th scope=col>Sensor9</th><th scope=col>Sensor10</th><th scope=col>Sensor11</th><th scope=col>Sensor12</th><th scope=col>Sensor13</th></tr></thead>\n",
       "<tbody>\n",
       "\t<tr><td>41016.34</td><td>10.3    </td><td>Normal  </td><td>35.01   </td><td>40.66   </td><td>42.26   </td><td>54.05   </td><td>41.66   </td><td>43.85   </td><td>42.65   </td><td>12.02   </td><td>44.75   </td><td>55.05   </td><td>51.64   </td><td>55.65   </td><td>55.85   </td><td>53.04   </td></tr>\n",
       "\t<tr><td>41016.34</td><td>10.3    </td><td>Normal  </td><td>34.52   </td><td>40.86   </td><td>41.46   </td><td>54.25   </td><td>41.46   </td><td>43.85   </td><td>42.65   </td><td>12.12   </td><td>44.75   </td><td>54.45   </td><td>51.74   </td><td>55.65   </td><td>56.35   </td><td>52.94   </td></tr>\n",
       "\t<tr><td>41016.34</td><td>10.4    </td><td>Normal  </td><td>34.32   </td><td>40.86   </td><td>40.57   </td><td>54.35   </td><td>41.26   </td><td>43.85   </td><td>42.65   </td><td>12.51   </td><td>44.75   </td><td>54.95   </td><td>51.64   </td><td>55.55   </td><td>55.75   </td><td>52.74   </td></tr>\n",
       "\t<tr><td>41016.35</td><td>10.4    </td><td>Normal  </td><td>33.62   </td><td>40.76   </td><td>39.17   </td><td>53.64   </td><td>41.36   </td><td>43.95   </td><td>42.75   </td><td>12.22   </td><td>44.85   </td><td>54.85   </td><td>51.74   </td><td>55.55   </td><td>55.75   </td><td>52.74   </td></tr>\n",
       "\t<tr><td>41016.38</td><td>10.5    </td><td>Normal  </td><td>33.82   </td><td>43.65   </td><td>37.49   </td><td>54.35   </td><td>40.27   </td><td>44.15   </td><td>43.25   </td><td>15.44   </td><td>45.74   </td><td>53.84   </td><td>53.04   </td><td>55.75   </td><td>57.66   </td><td>52.94   </td></tr>\n",
       "\t<tr><td>41016.42</td><td>10.5    </td><td>Normal  </td><td>37.49   </td><td>42.95   </td><td>42.26   </td><td>54.75   </td><td>44.25   </td><td>44.35   </td><td>43.45   </td><td>20.72   </td><td>47.94   </td><td>56.25   </td><td>52.74   </td><td>56.15   </td><td>57.86   </td><td>54.05   </td></tr>\n",
       "</tbody>\n",
       "</table>\n"
      ],
      "text/latex": [
       "\\begin{tabular}{r|lllllllllllllllll}\n",
       " RecordTime & Battery.V. & Rate & Sensor0 & Sensor1 & Sensor2 & Sensor3 & Sensor4 & Sensor5 & Sensor6 & Sensor7 & Sensor8 & Sensor9 & Sensor10 & Sensor11 & Sensor12 & Sensor13\\\\\n",
       "\\hline\n",
       "\t 41016.34 & 10.3     & Normal   & 35.01    & 40.66    & 42.26    & 54.05    & 41.66    & 43.85    & 42.65    & 12.02    & 44.75    & 55.05    & 51.64    & 55.65    & 55.85    & 53.04   \\\\\n",
       "\t 41016.34 & 10.3     & Normal   & 34.52    & 40.86    & 41.46    & 54.25    & 41.46    & 43.85    & 42.65    & 12.12    & 44.75    & 54.45    & 51.74    & 55.65    & 56.35    & 52.94   \\\\\n",
       "\t 41016.34 & 10.4     & Normal   & 34.32    & 40.86    & 40.57    & 54.35    & 41.26    & 43.85    & 42.65    & 12.51    & 44.75    & 54.95    & 51.64    & 55.55    & 55.75    & 52.74   \\\\\n",
       "\t 41016.35 & 10.4     & Normal   & 33.62    & 40.76    & 39.17    & 53.64    & 41.36    & 43.95    & 42.75    & 12.22    & 44.85    & 54.85    & 51.74    & 55.55    & 55.75    & 52.74   \\\\\n",
       "\t 41016.38 & 10.5     & Normal   & 33.82    & 43.65    & 37.49    & 54.35    & 40.27    & 44.15    & 43.25    & 15.44    & 45.74    & 53.84    & 53.04    & 55.75    & 57.66    & 52.94   \\\\\n",
       "\t 41016.42 & 10.5     & Normal   & 37.49    & 42.95    & 42.26    & 54.75    & 44.25    & 44.35    & 43.45    & 20.72    & 47.94    & 56.25    & 52.74    & 56.15    & 57.86    & 54.05   \\\\\n",
       "\\end{tabular}\n"
      ],
      "text/markdown": [
       "\n",
       "RecordTime | Battery.V. | Rate | Sensor0 | Sensor1 | Sensor2 | Sensor3 | Sensor4 | Sensor5 | Sensor6 | Sensor7 | Sensor8 | Sensor9 | Sensor10 | Sensor11 | Sensor12 | Sensor13 | \n",
       "|---|---|---|---|---|---|\n",
       "| 41016.34 | 10.3     | Normal   | 35.01    | 40.66    | 42.26    | 54.05    | 41.66    | 43.85    | 42.65    | 12.02    | 44.75    | 55.05    | 51.64    | 55.65    | 55.85    | 53.04    | \n",
       "| 41016.34 | 10.3     | Normal   | 34.52    | 40.86    | 41.46    | 54.25    | 41.46    | 43.85    | 42.65    | 12.12    | 44.75    | 54.45    | 51.74    | 55.65    | 56.35    | 52.94    | \n",
       "| 41016.34 | 10.4     | Normal   | 34.32    | 40.86    | 40.57    | 54.35    | 41.26    | 43.85    | 42.65    | 12.51    | 44.75    | 54.95    | 51.64    | 55.55    | 55.75    | 52.74    | \n",
       "| 41016.35 | 10.4     | Normal   | 33.62    | 40.76    | 39.17    | 53.64    | 41.36    | 43.95    | 42.75    | 12.22    | 44.85    | 54.85    | 51.74    | 55.55    | 55.75    | 52.74    | \n",
       "| 41016.38 | 10.5     | Normal   | 33.82    | 43.65    | 37.49    | 54.35    | 40.27    | 44.15    | 43.25    | 15.44    | 45.74    | 53.84    | 53.04    | 55.75    | 57.66    | 52.94    | \n",
       "| 41016.42 | 10.5     | Normal   | 37.49    | 42.95    | 42.26    | 54.75    | 44.25    | 44.35    | 43.45    | 20.72    | 47.94    | 56.25    | 52.74    | 56.15    | 57.86    | 54.05    | \n",
       "\n",
       "\n"
      ],
      "text/plain": [
       "  RecordTime Battery.V. Rate   Sensor0 Sensor1 Sensor2 Sensor3 Sensor4 Sensor5\n",
       "1 41016.34   10.3       Normal 35.01   40.66   42.26   54.05   41.66   43.85  \n",
       "2 41016.34   10.3       Normal 34.52   40.86   41.46   54.25   41.46   43.85  \n",
       "3 41016.34   10.4       Normal 34.32   40.86   40.57   54.35   41.26   43.85  \n",
       "4 41016.35   10.4       Normal 33.62   40.76   39.17   53.64   41.36   43.95  \n",
       "5 41016.38   10.5       Normal 33.82   43.65   37.49   54.35   40.27   44.15  \n",
       "6 41016.42   10.5       Normal 37.49   42.95   42.26   54.75   44.25   44.35  \n",
       "  Sensor6 Sensor7 Sensor8 Sensor9 Sensor10 Sensor11 Sensor12 Sensor13\n",
       "1 42.65   12.02   44.75   55.05   51.64    55.65    55.85    53.04   \n",
       "2 42.65   12.12   44.75   54.45   51.74    55.65    56.35    52.94   \n",
       "3 42.65   12.51   44.75   54.95   51.64    55.55    55.75    52.74   \n",
       "4 42.75   12.22   44.85   54.85   51.74    55.55    55.75    52.74   \n",
       "5 43.25   15.44   45.74   53.84   53.04    55.75    57.66    52.94   \n",
       "6 43.45   20.72   47.94   56.25   52.74    56.15    57.86    54.05   "
      ]
     },
     "metadata": {},
     "output_type": "display_data"
    },
    {
     "data": {
      "text/html": [
       "'Weather station data:'"
      ],
      "text/latex": [
       "'Weather station data:'"
      ],
      "text/markdown": [
       "'Weather station data:'"
      ],
      "text/plain": [
       "[1] \"Weather station data:\""
      ]
     },
     "metadata": {},
     "output_type": "display_data"
    },
    {
     "data": {
      "text/html": [
       "<table>\n",
       "<thead><tr><th scope=col>Date</th><th scope=col>TemperatureHighC</th><th scope=col>TemperatureAvgC</th><th scope=col>TemperatureLowC</th><th scope=col>DewpointHighF</th><th scope=col>DewpointAvgF</th><th scope=col>DewpointLowF</th><th scope=col>HumidityHigh</th><th scope=col>HumidityAvg</th><th scope=col>HumidityLow</th><th scope=col>PressureMaxIn</th><th scope=col>PressureMinIn</th><th scope=col>WindSpeedMaxMPH</th><th scope=col>WindSpeedAvgMPH</th><th scope=col>GustSpeedMaxMPH</th><th scope=col>PrecipitationSumIn</th></tr></thead>\n",
       "<tbody>\n",
       "\t<tr><td>41016</td><td>11.7 </td><td> 5.6 </td><td>0.0  </td><td>30   </td><td>24   </td><td>14   </td><td> 93  </td><td>56   </td><td>28   </td><td>0    </td><td>40   </td><td>11   </td><td>7    </td><td>25   </td><td>0.00 </td></tr>\n",
       "\t<tr><td>41017</td><td> 8.9 </td><td> 4.4 </td><td>1.1  </td><td>37   </td><td>31   </td><td>20   </td><td>100  </td><td>73   </td><td>44   </td><td>0    </td><td>40   </td><td>15   </td><td>8    </td><td>23   </td><td>0.00 </td></tr>\n",
       "\t<tr><td>41018</td><td>14.4 </td><td> 7.8 </td><td>2.2  </td><td>42   </td><td>40   </td><td>36   </td><td>100  </td><td>82   </td><td>52   </td><td>0    </td><td>40   </td><td>13   </td><td>8    </td><td>26   </td><td>0.01 </td></tr>\n",
       "\t<tr><td>41019</td><td>21.1 </td><td>12.8 </td><td>3.9  </td><td>43   </td><td>34   </td><td>19   </td><td> 94  </td><td>53   </td><td>16   </td><td>0    </td><td>40   </td><td> 7   </td><td>4    </td><td>19   </td><td>0.00 </td></tr>\n",
       "\t<tr><td>41020</td><td>22.2 </td><td>15.6 </td><td>8.3  </td><td>33   </td><td>25   </td><td>14   </td><td> 51  </td><td>30   </td><td>11   </td><td>0    </td><td>40   </td><td>13   </td><td>6    </td><td>22   </td><td>0.00 </td></tr>\n",
       "\t<tr><td>41021</td><td>23.9 </td><td>16.7 </td><td>7.8  </td><td>33   </td><td>26   </td><td>16   </td><td> 53  </td><td>29   </td><td>11   </td><td>0    </td><td>40   </td><td>13   </td><td>6    </td><td>25   </td><td>0.00 </td></tr>\n",
       "</tbody>\n",
       "</table>\n"
      ],
      "text/latex": [
       "\\begin{tabular}{r|llllllllllllllll}\n",
       " Date & TemperatureHighC & TemperatureAvgC & TemperatureLowC & DewpointHighF & DewpointAvgF & DewpointLowF & HumidityHigh & HumidityAvg & HumidityLow & PressureMaxIn & PressureMinIn & WindSpeedMaxMPH & WindSpeedAvgMPH & GustSpeedMaxMPH & PrecipitationSumIn\\\\\n",
       "\\hline\n",
       "\t 41016 & 11.7  &  5.6  & 0.0   & 30    & 24    & 14    &  93   & 56    & 28    & 0     & 40    & 11    & 7     & 25    & 0.00 \\\\\n",
       "\t 41017 &  8.9  &  4.4  & 1.1   & 37    & 31    & 20    & 100   & 73    & 44    & 0     & 40    & 15    & 8     & 23    & 0.00 \\\\\n",
       "\t 41018 & 14.4  &  7.8  & 2.2   & 42    & 40    & 36    & 100   & 82    & 52    & 0     & 40    & 13    & 8     & 26    & 0.01 \\\\\n",
       "\t 41019 & 21.1  & 12.8  & 3.9   & 43    & 34    & 19    &  94   & 53    & 16    & 0     & 40    &  7    & 4     & 19    & 0.00 \\\\\n",
       "\t 41020 & 22.2  & 15.6  & 8.3   & 33    & 25    & 14    &  51   & 30    & 11    & 0     & 40    & 13    & 6     & 22    & 0.00 \\\\\n",
       "\t 41021 & 23.9  & 16.7  & 7.8   & 33    & 26    & 16    &  53   & 29    & 11    & 0     & 40    & 13    & 6     & 25    & 0.00 \\\\\n",
       "\\end{tabular}\n"
      ],
      "text/markdown": [
       "\n",
       "Date | TemperatureHighC | TemperatureAvgC | TemperatureLowC | DewpointHighF | DewpointAvgF | DewpointLowF | HumidityHigh | HumidityAvg | HumidityLow | PressureMaxIn | PressureMinIn | WindSpeedMaxMPH | WindSpeedAvgMPH | GustSpeedMaxMPH | PrecipitationSumIn | \n",
       "|---|---|---|---|---|---|\n",
       "| 41016 | 11.7  |  5.6  | 0.0   | 30    | 24    | 14    |  93   | 56    | 28    | 0     | 40    | 11    | 7     | 25    | 0.00  | \n",
       "| 41017 |  8.9  |  4.4  | 1.1   | 37    | 31    | 20    | 100   | 73    | 44    | 0     | 40    | 15    | 8     | 23    | 0.00  | \n",
       "| 41018 | 14.4  |  7.8  | 2.2   | 42    | 40    | 36    | 100   | 82    | 52    | 0     | 40    | 13    | 8     | 26    | 0.01  | \n",
       "| 41019 | 21.1  | 12.8  | 3.9   | 43    | 34    | 19    |  94   | 53    | 16    | 0     | 40    |  7    | 4     | 19    | 0.00  | \n",
       "| 41020 | 22.2  | 15.6  | 8.3   | 33    | 25    | 14    |  51   | 30    | 11    | 0     | 40    | 13    | 6     | 22    | 0.00  | \n",
       "| 41021 | 23.9  | 16.7  | 7.8   | 33    | 26    | 16    |  53   | 29    | 11    | 0     | 40    | 13    | 6     | 25    | 0.00  | \n",
       "\n",
       "\n"
      ],
      "text/plain": [
       "  Date  TemperatureHighC TemperatureAvgC TemperatureLowC DewpointHighF\n",
       "1 41016 11.7              5.6            0.0             30           \n",
       "2 41017  8.9              4.4            1.1             37           \n",
       "3 41018 14.4              7.8            2.2             42           \n",
       "4 41019 21.1             12.8            3.9             43           \n",
       "5 41020 22.2             15.6            8.3             33           \n",
       "6 41021 23.9             16.7            7.8             33           \n",
       "  DewpointAvgF DewpointLowF HumidityHigh HumidityAvg HumidityLow PressureMaxIn\n",
       "1 24           14            93          56          28          0            \n",
       "2 31           20           100          73          44          0            \n",
       "3 40           36           100          82          52          0            \n",
       "4 34           19            94          53          16          0            \n",
       "5 25           14            51          30          11          0            \n",
       "6 26           16            53          29          11          0            \n",
       "  PressureMinIn WindSpeedMaxMPH WindSpeedAvgMPH GustSpeedMaxMPH\n",
       "1 40            11              7               25             \n",
       "2 40            15              8               23             \n",
       "3 40            13              8               26             \n",
       "4 40             7              4               19             \n",
       "5 40            13              6               22             \n",
       "6 40            13              6               25             \n",
       "  PrecipitationSumIn\n",
       "1 0.00              \n",
       "2 0.00              \n",
       "3 0.01              \n",
       "4 0.00              \n",
       "5 0.00              \n",
       "6 0.00              "
      ]
     },
     "metadata": {},
     "output_type": "display_data"
    }
   ],
   "source": [
    "# check the formatting of these datasets\n",
    "\"BENTO temperature sensor readings from Great Boiling Springs, NV:\"\n",
    "head(bento)\n",
    "\"Weather station data:\"\n",
    "head(weather)"
   ]
  },
  {
   "cell_type": "markdown",
   "metadata": {},
   "source": [
    "The column \"RecordTime\" in the BENTO dataset needs to be converted to date/time format."
   ]
  },
  {
   "cell_type": "code",
   "execution_count": 4,
   "metadata": {},
   "outputs": [
    {
     "data": {
      "text/html": [
       "'BENTO temperature sensor readings from Great Boiling Springs, NV:'"
      ],
      "text/latex": [
       "'BENTO temperature sensor readings from Great Boiling Springs, NV:'"
      ],
      "text/markdown": [
       "'BENTO temperature sensor readings from Great Boiling Springs, NV:'"
      ],
      "text/plain": [
       "[1] \"BENTO temperature sensor readings from Great Boiling Springs, NV:\""
      ]
     },
     "metadata": {},
     "output_type": "display_data"
    },
    {
     "data": {
      "text/html": [
       "<table>\n",
       "<thead><tr><th scope=col>RecordTime</th><th scope=col>Battery.V.</th><th scope=col>Rate</th><th scope=col>Sensor0</th><th scope=col>Sensor1</th><th scope=col>Sensor2</th><th scope=col>Sensor3</th><th scope=col>Sensor4</th><th scope=col>Sensor5</th><th scope=col>Sensor6</th><th scope=col>Sensor7</th><th scope=col>Sensor8</th><th scope=col>Sensor9</th><th scope=col>Sensor10</th><th scope=col>Sensor11</th><th scope=col>Sensor12</th><th scope=col>Sensor13</th><th scope=col>DateTime</th><th scope=col>Date</th></tr></thead>\n",
       "<tbody>\n",
       "\t<tr><td>41016.34           </td><td>10.3               </td><td>Normal             </td><td>35.01              </td><td>40.66              </td><td>42.26              </td><td>54.05              </td><td>41.66              </td><td>43.85              </td><td>42.65              </td><td>12.02              </td><td>44.75              </td><td>55.05              </td><td>51.64              </td><td>55.65              </td><td>55.85              </td><td>53.04              </td><td>2012-04-17 08:14:00</td><td>2012-04-17         </td></tr>\n",
       "\t<tr><td>41016.34           </td><td>10.3               </td><td>Normal             </td><td>34.52              </td><td>40.86              </td><td>41.46              </td><td>54.25              </td><td>41.46              </td><td>43.85              </td><td>42.65              </td><td>12.12              </td><td>44.75              </td><td>54.45              </td><td>51.74              </td><td>55.65              </td><td>56.35              </td><td>52.94              </td><td>2012-04-17 08:15:00</td><td>2012-04-17         </td></tr>\n",
       "\t<tr><td>41016.34           </td><td>10.4               </td><td>Normal             </td><td>34.32              </td><td>40.86              </td><td>40.57              </td><td>54.35              </td><td>41.26              </td><td>43.85              </td><td>42.65              </td><td>12.51              </td><td>44.75              </td><td>54.95              </td><td>51.64              </td><td>55.55              </td><td>55.75              </td><td>52.74              </td><td>2012-04-17 08:15:59</td><td>2012-04-17         </td></tr>\n",
       "\t<tr><td>41016.35           </td><td>10.4               </td><td>Normal             </td><td>33.62              </td><td>40.76              </td><td>39.17              </td><td>53.64              </td><td>41.36              </td><td>43.95              </td><td>42.75              </td><td>12.22              </td><td>44.85              </td><td>54.85              </td><td>51.74              </td><td>55.55              </td><td>55.75              </td><td>52.74              </td><td>2012-04-17 08:17:59</td><td>2012-04-17         </td></tr>\n",
       "\t<tr><td>41016.38           </td><td>10.5               </td><td>Normal             </td><td>33.82              </td><td>43.65              </td><td>37.49              </td><td>54.35              </td><td>40.27              </td><td>44.15              </td><td>43.25              </td><td>15.44              </td><td>45.74              </td><td>53.84              </td><td>53.04              </td><td>55.75              </td><td>57.66              </td><td>52.94              </td><td>2012-04-17 09:00:00</td><td>2012-04-17         </td></tr>\n",
       "\t<tr><td>41016.42           </td><td>10.5               </td><td>Normal             </td><td>37.49              </td><td>42.95              </td><td>42.26              </td><td>54.75              </td><td>44.25              </td><td>44.35              </td><td>43.45              </td><td>20.72              </td><td>47.94              </td><td>56.25              </td><td>52.74              </td><td>56.15              </td><td>57.86              </td><td>54.05              </td><td>2012-04-17 10:00:00</td><td>2012-04-17         </td></tr>\n",
       "</tbody>\n",
       "</table>\n"
      ],
      "text/latex": [
       "\\begin{tabular}{r|lllllllllllllllllll}\n",
       " RecordTime & Battery.V. & Rate & Sensor0 & Sensor1 & Sensor2 & Sensor3 & Sensor4 & Sensor5 & Sensor6 & Sensor7 & Sensor8 & Sensor9 & Sensor10 & Sensor11 & Sensor12 & Sensor13 & DateTime & Date\\\\\n",
       "\\hline\n",
       "\t 41016.34            & 10.3                & Normal              & 35.01               & 40.66               & 42.26               & 54.05               & 41.66               & 43.85               & 42.65               & 12.02               & 44.75               & 55.05               & 51.64               & 55.65               & 55.85               & 53.04               & 2012-04-17 08:14:00 & 2012-04-17         \\\\\n",
       "\t 41016.34            & 10.3                & Normal              & 34.52               & 40.86               & 41.46               & 54.25               & 41.46               & 43.85               & 42.65               & 12.12               & 44.75               & 54.45               & 51.74               & 55.65               & 56.35               & 52.94               & 2012-04-17 08:15:00 & 2012-04-17         \\\\\n",
       "\t 41016.34            & 10.4                & Normal              & 34.32               & 40.86               & 40.57               & 54.35               & 41.26               & 43.85               & 42.65               & 12.51               & 44.75               & 54.95               & 51.64               & 55.55               & 55.75               & 52.74               & 2012-04-17 08:15:59 & 2012-04-17         \\\\\n",
       "\t 41016.35            & 10.4                & Normal              & 33.62               & 40.76               & 39.17               & 53.64               & 41.36               & 43.95               & 42.75               & 12.22               & 44.85               & 54.85               & 51.74               & 55.55               & 55.75               & 52.74               & 2012-04-17 08:17:59 & 2012-04-17         \\\\\n",
       "\t 41016.38            & 10.5                & Normal              & 33.82               & 43.65               & 37.49               & 54.35               & 40.27               & 44.15               & 43.25               & 15.44               & 45.74               & 53.84               & 53.04               & 55.75               & 57.66               & 52.94               & 2012-04-17 09:00:00 & 2012-04-17         \\\\\n",
       "\t 41016.42            & 10.5                & Normal              & 37.49               & 42.95               & 42.26               & 54.75               & 44.25               & 44.35               & 43.45               & 20.72               & 47.94               & 56.25               & 52.74               & 56.15               & 57.86               & 54.05               & 2012-04-17 10:00:00 & 2012-04-17         \\\\\n",
       "\\end{tabular}\n"
      ],
      "text/markdown": [
       "\n",
       "RecordTime | Battery.V. | Rate | Sensor0 | Sensor1 | Sensor2 | Sensor3 | Sensor4 | Sensor5 | Sensor6 | Sensor7 | Sensor8 | Sensor9 | Sensor10 | Sensor11 | Sensor12 | Sensor13 | DateTime | Date | \n",
       "|---|---|---|---|---|---|\n",
       "| 41016.34            | 10.3                | Normal              | 35.01               | 40.66               | 42.26               | 54.05               | 41.66               | 43.85               | 42.65               | 12.02               | 44.75               | 55.05               | 51.64               | 55.65               | 55.85               | 53.04               | 2012-04-17 08:14:00 | 2012-04-17          | \n",
       "| 41016.34            | 10.3                | Normal              | 34.52               | 40.86               | 41.46               | 54.25               | 41.46               | 43.85               | 42.65               | 12.12               | 44.75               | 54.45               | 51.74               | 55.65               | 56.35               | 52.94               | 2012-04-17 08:15:00 | 2012-04-17          | \n",
       "| 41016.34            | 10.4                | Normal              | 34.32               | 40.86               | 40.57               | 54.35               | 41.26               | 43.85               | 42.65               | 12.51               | 44.75               | 54.95               | 51.64               | 55.55               | 55.75               | 52.74               | 2012-04-17 08:15:59 | 2012-04-17          | \n",
       "| 41016.35            | 10.4                | Normal              | 33.62               | 40.76               | 39.17               | 53.64               | 41.36               | 43.95               | 42.75               | 12.22               | 44.85               | 54.85               | 51.74               | 55.55               | 55.75               | 52.74               | 2012-04-17 08:17:59 | 2012-04-17          | \n",
       "| 41016.38            | 10.5                | Normal              | 33.82               | 43.65               | 37.49               | 54.35               | 40.27               | 44.15               | 43.25               | 15.44               | 45.74               | 53.84               | 53.04               | 55.75               | 57.66               | 52.94               | 2012-04-17 09:00:00 | 2012-04-17          | \n",
       "| 41016.42            | 10.5                | Normal              | 37.49               | 42.95               | 42.26               | 54.75               | 44.25               | 44.35               | 43.45               | 20.72               | 47.94               | 56.25               | 52.74               | 56.15               | 57.86               | 54.05               | 2012-04-17 10:00:00 | 2012-04-17          | \n",
       "\n",
       "\n"
      ],
      "text/plain": [
       "  RecordTime Battery.V. Rate   Sensor0 Sensor1 Sensor2 Sensor3 Sensor4 Sensor5\n",
       "1 41016.34   10.3       Normal 35.01   40.66   42.26   54.05   41.66   43.85  \n",
       "2 41016.34   10.3       Normal 34.52   40.86   41.46   54.25   41.46   43.85  \n",
       "3 41016.34   10.4       Normal 34.32   40.86   40.57   54.35   41.26   43.85  \n",
       "4 41016.35   10.4       Normal 33.62   40.76   39.17   53.64   41.36   43.95  \n",
       "5 41016.38   10.5       Normal 33.82   43.65   37.49   54.35   40.27   44.15  \n",
       "6 41016.42   10.5       Normal 37.49   42.95   42.26   54.75   44.25   44.35  \n",
       "  Sensor6 Sensor7 Sensor8 Sensor9 Sensor10 Sensor11 Sensor12 Sensor13\n",
       "1 42.65   12.02   44.75   55.05   51.64    55.65    55.85    53.04   \n",
       "2 42.65   12.12   44.75   54.45   51.74    55.65    56.35    52.94   \n",
       "3 42.65   12.51   44.75   54.95   51.64    55.55    55.75    52.74   \n",
       "4 42.75   12.22   44.85   54.85   51.74    55.55    55.75    52.74   \n",
       "5 43.25   15.44   45.74   53.84   53.04    55.75    57.66    52.94   \n",
       "6 43.45   20.72   47.94   56.25   52.74    56.15    57.86    54.05   \n",
       "  DateTime            Date      \n",
       "1 2012-04-17 08:14:00 2012-04-17\n",
       "2 2012-04-17 08:15:00 2012-04-17\n",
       "3 2012-04-17 08:15:59 2012-04-17\n",
       "4 2012-04-17 08:17:59 2012-04-17\n",
       "5 2012-04-17 09:00:00 2012-04-17\n",
       "6 2012-04-17 10:00:00 2012-04-17"
      ]
     },
     "metadata": {},
     "output_type": "display_data"
    },
    {
     "data": {
      "text/html": [
       "'Weather station data:'"
      ],
      "text/latex": [
       "'Weather station data:'"
      ],
      "text/markdown": [
       "'Weather station data:'"
      ],
      "text/plain": [
       "[1] \"Weather station data:\""
      ]
     },
     "metadata": {},
     "output_type": "display_data"
    },
    {
     "data": {
      "text/html": [
       "<table>\n",
       "<thead><tr><th scope=col>Date</th><th scope=col>TemperatureHighC</th><th scope=col>TemperatureAvgC</th><th scope=col>TemperatureLowC</th><th scope=col>DewpointHighF</th><th scope=col>DewpointAvgF</th><th scope=col>DewpointLowF</th><th scope=col>HumidityHigh</th><th scope=col>HumidityAvg</th><th scope=col>HumidityLow</th><th scope=col>PressureMaxIn</th><th scope=col>PressureMinIn</th><th scope=col>WindSpeedMaxMPH</th><th scope=col>WindSpeedAvgMPH</th><th scope=col>GustSpeedMaxMPH</th><th scope=col>PrecipitationSumIn</th></tr></thead>\n",
       "<tbody>\n",
       "\t<tr><td>2012-04-17</td><td>11.7      </td><td> 5.6      </td><td>0.0       </td><td>30        </td><td>24        </td><td>14        </td><td> 93       </td><td>56        </td><td>28        </td><td>0         </td><td>40        </td><td>11        </td><td>7         </td><td>25        </td><td>0.00      </td></tr>\n",
       "\t<tr><td>2012-04-18</td><td> 8.9      </td><td> 4.4      </td><td>1.1       </td><td>37        </td><td>31        </td><td>20        </td><td>100       </td><td>73        </td><td>44        </td><td>0         </td><td>40        </td><td>15        </td><td>8         </td><td>23        </td><td>0.00      </td></tr>\n",
       "\t<tr><td>2012-04-19</td><td>14.4      </td><td> 7.8      </td><td>2.2       </td><td>42        </td><td>40        </td><td>36        </td><td>100       </td><td>82        </td><td>52        </td><td>0         </td><td>40        </td><td>13        </td><td>8         </td><td>26        </td><td>0.01      </td></tr>\n",
       "\t<tr><td>2012-04-20</td><td>21.1      </td><td>12.8      </td><td>3.9       </td><td>43        </td><td>34        </td><td>19        </td><td> 94       </td><td>53        </td><td>16        </td><td>0         </td><td>40        </td><td> 7        </td><td>4         </td><td>19        </td><td>0.00      </td></tr>\n",
       "\t<tr><td>2012-04-21</td><td>22.2      </td><td>15.6      </td><td>8.3       </td><td>33        </td><td>25        </td><td>14        </td><td> 51       </td><td>30        </td><td>11        </td><td>0         </td><td>40        </td><td>13        </td><td>6         </td><td>22        </td><td>0.00      </td></tr>\n",
       "\t<tr><td>2012-04-22</td><td>23.9      </td><td>16.7      </td><td>7.8       </td><td>33        </td><td>26        </td><td>16        </td><td> 53       </td><td>29        </td><td>11        </td><td>0         </td><td>40        </td><td>13        </td><td>6         </td><td>25        </td><td>0.00      </td></tr>\n",
       "</tbody>\n",
       "</table>\n"
      ],
      "text/latex": [
       "\\begin{tabular}{r|llllllllllllllll}\n",
       " Date & TemperatureHighC & TemperatureAvgC & TemperatureLowC & DewpointHighF & DewpointAvgF & DewpointLowF & HumidityHigh & HumidityAvg & HumidityLow & PressureMaxIn & PressureMinIn & WindSpeedMaxMPH & WindSpeedAvgMPH & GustSpeedMaxMPH & PrecipitationSumIn\\\\\n",
       "\\hline\n",
       "\t 2012-04-17 & 11.7       &  5.6       & 0.0        & 30         & 24         & 14         &  93        & 56         & 28         & 0          & 40         & 11         & 7          & 25         & 0.00      \\\\\n",
       "\t 2012-04-18 &  8.9       &  4.4       & 1.1        & 37         & 31         & 20         & 100        & 73         & 44         & 0          & 40         & 15         & 8          & 23         & 0.00      \\\\\n",
       "\t 2012-04-19 & 14.4       &  7.8       & 2.2        & 42         & 40         & 36         & 100        & 82         & 52         & 0          & 40         & 13         & 8          & 26         & 0.01      \\\\\n",
       "\t 2012-04-20 & 21.1       & 12.8       & 3.9        & 43         & 34         & 19         &  94        & 53         & 16         & 0          & 40         &  7         & 4          & 19         & 0.00      \\\\\n",
       "\t 2012-04-21 & 22.2       & 15.6       & 8.3        & 33         & 25         & 14         &  51        & 30         & 11         & 0          & 40         & 13         & 6          & 22         & 0.00      \\\\\n",
       "\t 2012-04-22 & 23.9       & 16.7       & 7.8        & 33         & 26         & 16         &  53        & 29         & 11         & 0          & 40         & 13         & 6          & 25         & 0.00      \\\\\n",
       "\\end{tabular}\n"
      ],
      "text/markdown": [
       "\n",
       "Date | TemperatureHighC | TemperatureAvgC | TemperatureLowC | DewpointHighF | DewpointAvgF | DewpointLowF | HumidityHigh | HumidityAvg | HumidityLow | PressureMaxIn | PressureMinIn | WindSpeedMaxMPH | WindSpeedAvgMPH | GustSpeedMaxMPH | PrecipitationSumIn | \n",
       "|---|---|---|---|---|---|\n",
       "| 2012-04-17 | 11.7       |  5.6       | 0.0        | 30         | 24         | 14         |  93        | 56         | 28         | 0          | 40         | 11         | 7          | 25         | 0.00       | \n",
       "| 2012-04-18 |  8.9       |  4.4       | 1.1        | 37         | 31         | 20         | 100        | 73         | 44         | 0          | 40         | 15         | 8          | 23         | 0.00       | \n",
       "| 2012-04-19 | 14.4       |  7.8       | 2.2        | 42         | 40         | 36         | 100        | 82         | 52         | 0          | 40         | 13         | 8          | 26         | 0.01       | \n",
       "| 2012-04-20 | 21.1       | 12.8       | 3.9        | 43         | 34         | 19         |  94        | 53         | 16         | 0          | 40         |  7         | 4          | 19         | 0.00       | \n",
       "| 2012-04-21 | 22.2       | 15.6       | 8.3        | 33         | 25         | 14         |  51        | 30         | 11         | 0          | 40         | 13         | 6          | 22         | 0.00       | \n",
       "| 2012-04-22 | 23.9       | 16.7       | 7.8        | 33         | 26         | 16         |  53        | 29         | 11         | 0          | 40         | 13         | 6          | 25         | 0.00       | \n",
       "\n",
       "\n"
      ],
      "text/plain": [
       "  Date       TemperatureHighC TemperatureAvgC TemperatureLowC DewpointHighF\n",
       "1 2012-04-17 11.7              5.6            0.0             30           \n",
       "2 2012-04-18  8.9              4.4            1.1             37           \n",
       "3 2012-04-19 14.4              7.8            2.2             42           \n",
       "4 2012-04-20 21.1             12.8            3.9             43           \n",
       "5 2012-04-21 22.2             15.6            8.3             33           \n",
       "6 2012-04-22 23.9             16.7            7.8             33           \n",
       "  DewpointAvgF DewpointLowF HumidityHigh HumidityAvg HumidityLow PressureMaxIn\n",
       "1 24           14            93          56          28          0            \n",
       "2 31           20           100          73          44          0            \n",
       "3 40           36           100          82          52          0            \n",
       "4 34           19            94          53          16          0            \n",
       "5 25           14            51          30          11          0            \n",
       "6 26           16            53          29          11          0            \n",
       "  PressureMinIn WindSpeedMaxMPH WindSpeedAvgMPH GustSpeedMaxMPH\n",
       "1 40            11              7               25             \n",
       "2 40            15              8               23             \n",
       "3 40            13              8               26             \n",
       "4 40             7              4               19             \n",
       "5 40            13              6               22             \n",
       "6 40            13              6               25             \n",
       "  PrecipitationSumIn\n",
       "1 0.00              \n",
       "2 0.00              \n",
       "3 0.01              \n",
       "4 0.00              \n",
       "5 0.00              \n",
       "6 0.00              "
      ]
     },
     "metadata": {},
     "output_type": "display_data"
    }
   ],
   "source": [
    "# create column converting RecordTime into proper date/time format\n",
    "bento$DateTime <- as.POSIXct(\n",
    "  bento$RecordTime * (60*60*24), # (seconds)\n",
    "  origin=\"1899-12-30\", # Excel's origin time\n",
    "  tz=\"GMT\") # origin time zone\n",
    "\n",
    "# create a column for date only\n",
    "bento$Date <- as.Date(floor(bento$RecordTime), origin=\"1899-12-30\")\n",
    "\n",
    "# convert to date format\n",
    "weather$Date <- as.Date(weather$Date, origin=\"1899-12-30\")\n",
    "\n",
    "# check that formatting is correct in both datasets\n",
    "\"BENTO temperature sensor readings from Great Boiling Springs, NV:\"\n",
    "head(bento)\n",
    "\"Weather station data:\"\n",
    "head(weather)"
   ]
  },
  {
   "cell_type": "code",
   "execution_count": 5,
   "metadata": {},
   "outputs": [
    {
     "data": {
      "text/html": [
       "'Number of days BENTO recorded:'"
      ],
      "text/latex": [
       "'Number of days BENTO recorded:'"
      ],
      "text/markdown": [
       "'Number of days BENTO recorded:'"
      ],
      "text/plain": [
       "[1] \"Number of days BENTO recorded:\""
      ]
     },
     "metadata": {},
     "output_type": "display_data"
    },
    {
     "data": {
      "text/html": [
       "315"
      ],
      "text/latex": [
       "315"
      ],
      "text/markdown": [
       "315"
      ],
      "text/plain": [
       "[1] 315"
      ]
     },
     "metadata": {},
     "output_type": "display_data"
    },
    {
     "data": {
      "text/html": [
       "'Number of days in weather data:'"
      ],
      "text/latex": [
       "'Number of days in weather data:'"
      ],
      "text/markdown": [
       "'Number of days in weather data:'"
      ],
      "text/plain": [
       "[1] \"Number of days in weather data:\""
      ]
     },
     "metadata": {},
     "output_type": "display_data"
    },
    {
     "data": {
      "text/html": [
       "314"
      ],
      "text/latex": [
       "314"
      ],
      "text/markdown": [
       "314"
      ],
      "text/plain": [
       "[1] 314"
      ]
     },
     "metadata": {},
     "output_type": "display_data"
    }
   ],
   "source": [
    "# aggregate average daily BENTO sensor readings (degrees C)\n",
    "bento_daily <- aggregate(bento[, 4:17], by = list(bento[, 19]), FUN = mean)\n",
    "\n",
    "# check to see whether length of bento_daily and weather match each other\n",
    "\"Number of days BENTO recorded:\"\n",
    "nrow(bento_daily)\n",
    "\"Number of days in weather data:\"\n",
    "nrow(weather)"
   ]
  },
  {
   "cell_type": "code",
   "execution_count": 6,
   "metadata": {},
   "outputs": [
    {
     "data": {
      "text/html": [
       "'Tail end of BENTO sensor readings:'"
      ],
      "text/latex": [
       "'Tail end of BENTO sensor readings:'"
      ],
      "text/markdown": [
       "'Tail end of BENTO sensor readings:'"
      ],
      "text/plain": [
       "[1] \"Tail end of BENTO sensor readings:\""
      ]
     },
     "metadata": {},
     "output_type": "display_data"
    },
    {
     "data": {
      "text/html": [
       "<table>\n",
       "<thead><tr><th></th><th scope=col>Group.1</th><th scope=col>Sensor0</th><th scope=col>Sensor1</th><th scope=col>Sensor2</th><th scope=col>Sensor3</th><th scope=col>Sensor4</th><th scope=col>Sensor5</th><th scope=col>Sensor6</th><th scope=col>Sensor7</th><th scope=col>Sensor8</th><th scope=col>Sensor9</th><th scope=col>Sensor10</th><th scope=col>Sensor11</th><th scope=col>Sensor12</th><th scope=col>Sensor13</th></tr></thead>\n",
       "<tbody>\n",
       "\t<tr><th scope=row>310</th><td>2013-02-20</td><td>48.56727  </td><td>49.96273  </td><td>50.20364  </td><td>NA        </td><td>49.16273  </td><td>NA        </td><td>NA        </td><td>NA        </td><td>52.90818  </td><td>78.76773  </td><td>NA        </td><td>NA        </td><td>56.45500  </td><td>NA        </td></tr>\n",
       "\t<tr><th scope=row>311</th><td>2013-02-21</td><td>49.54800  </td><td>49.76800  </td><td>51.03600  </td><td>NA        </td><td>48.88400  </td><td>NA        </td><td>NA        </td><td>NA        </td><td>53.37480  </td><td>76.29560  </td><td>NA        </td><td>NA        </td><td>57.38400  </td><td>NA        </td></tr>\n",
       "\t<tr><th scope=row>312</th><td>2013-02-22</td><td>49.33200  </td><td>49.37200  </td><td>50.88000  </td><td>NA        </td><td>47.10000  </td><td>NA        </td><td>NA        </td><td>NA        </td><td>50.96000  </td><td>71.89040  </td><td>NA        </td><td>NA        </td><td>56.10880  </td><td>NA        </td></tr>\n",
       "\t<tr><th scope=row>313</th><td>2013-02-23</td><td>46.49833  </td><td>47.29000  </td><td>48.36917  </td><td>NA        </td><td>45.43917  </td><td>NA        </td><td>NA        </td><td>NA        </td><td>49.54417  </td><td>67.82333  </td><td>NA        </td><td>NA        </td><td>53.59667  </td><td>NA        </td></tr>\n",
       "\t<tr><th scope=row>314</th><td>2013-02-24</td><td>47.83600  </td><td>48.25200  </td><td>49.36000  </td><td>NA        </td><td>46.82440  </td><td>NA        </td><td>NA        </td><td>NA        </td><td>51.13200  </td><td>74.54600  </td><td>NA        </td><td>NA        </td><td>55.30200  </td><td>NA        </td></tr>\n",
       "\t<tr><th scope=row>315</th><td>2013-02-25</td><td>48.77571  </td><td>48.69000  </td><td>50.12571  </td><td>NA        </td><td>47.40429  </td><td>NA        </td><td>NA        </td><td>NA        </td><td>50.61857  </td><td>      NA  </td><td>NA        </td><td>NA        </td><td>55.72857  </td><td>NA        </td></tr>\n",
       "</tbody>\n",
       "</table>\n"
      ],
      "text/latex": [
       "\\begin{tabular}{r|lllllllllllllll}\n",
       "  & Group.1 & Sensor0 & Sensor1 & Sensor2 & Sensor3 & Sensor4 & Sensor5 & Sensor6 & Sensor7 & Sensor8 & Sensor9 & Sensor10 & Sensor11 & Sensor12 & Sensor13\\\\\n",
       "\\hline\n",
       "\t310 & 2013-02-20 & 48.56727   & 49.96273   & 50.20364   & NA         & 49.16273   & NA         & NA         & NA         & 52.90818   & 78.76773   & NA         & NA         & 56.45500   & NA        \\\\\n",
       "\t311 & 2013-02-21 & 49.54800   & 49.76800   & 51.03600   & NA         & 48.88400   & NA         & NA         & NA         & 53.37480   & 76.29560   & NA         & NA         & 57.38400   & NA        \\\\\n",
       "\t312 & 2013-02-22 & 49.33200   & 49.37200   & 50.88000   & NA         & 47.10000   & NA         & NA         & NA         & 50.96000   & 71.89040   & NA         & NA         & 56.10880   & NA        \\\\\n",
       "\t313 & 2013-02-23 & 46.49833   & 47.29000   & 48.36917   & NA         & 45.43917   & NA         & NA         & NA         & 49.54417   & 67.82333   & NA         & NA         & 53.59667   & NA        \\\\\n",
       "\t314 & 2013-02-24 & 47.83600   & 48.25200   & 49.36000   & NA         & 46.82440   & NA         & NA         & NA         & 51.13200   & 74.54600   & NA         & NA         & 55.30200   & NA        \\\\\n",
       "\t315 & 2013-02-25 & 48.77571   & 48.69000   & 50.12571   & NA         & 47.40429   & NA         & NA         & NA         & 50.61857   &       NA   & NA         & NA         & 55.72857   & NA        \\\\\n",
       "\\end{tabular}\n"
      ],
      "text/markdown": [
       "\n",
       "| <!--/--> | Group.1 | Sensor0 | Sensor1 | Sensor2 | Sensor3 | Sensor4 | Sensor5 | Sensor6 | Sensor7 | Sensor8 | Sensor9 | Sensor10 | Sensor11 | Sensor12 | Sensor13 | \n",
       "|---|---|---|---|---|---|\n",
       "| 310 | 2013-02-20 | 48.56727   | 49.96273   | 50.20364   | NA         | 49.16273   | NA         | NA         | NA         | 52.90818   | 78.76773   | NA         | NA         | 56.45500   | NA         | \n",
       "| 311 | 2013-02-21 | 49.54800   | 49.76800   | 51.03600   | NA         | 48.88400   | NA         | NA         | NA         | 53.37480   | 76.29560   | NA         | NA         | 57.38400   | NA         | \n",
       "| 312 | 2013-02-22 | 49.33200   | 49.37200   | 50.88000   | NA         | 47.10000   | NA         | NA         | NA         | 50.96000   | 71.89040   | NA         | NA         | 56.10880   | NA         | \n",
       "| 313 | 2013-02-23 | 46.49833   | 47.29000   | 48.36917   | NA         | 45.43917   | NA         | NA         | NA         | 49.54417   | 67.82333   | NA         | NA         | 53.59667   | NA         | \n",
       "| 314 | 2013-02-24 | 47.83600   | 48.25200   | 49.36000   | NA         | 46.82440   | NA         | NA         | NA         | 51.13200   | 74.54600   | NA         | NA         | 55.30200   | NA         | \n",
       "| 315 | 2013-02-25 | 48.77571   | 48.69000   | 50.12571   | NA         | 47.40429   | NA         | NA         | NA         | 50.61857   |       NA   | NA         | NA         | 55.72857   | NA         | \n",
       "\n",
       "\n"
      ],
      "text/plain": [
       "    Group.1    Sensor0  Sensor1  Sensor2  Sensor3 Sensor4  Sensor5 Sensor6\n",
       "310 2013-02-20 48.56727 49.96273 50.20364 NA      49.16273 NA      NA     \n",
       "311 2013-02-21 49.54800 49.76800 51.03600 NA      48.88400 NA      NA     \n",
       "312 2013-02-22 49.33200 49.37200 50.88000 NA      47.10000 NA      NA     \n",
       "313 2013-02-23 46.49833 47.29000 48.36917 NA      45.43917 NA      NA     \n",
       "314 2013-02-24 47.83600 48.25200 49.36000 NA      46.82440 NA      NA     \n",
       "315 2013-02-25 48.77571 48.69000 50.12571 NA      47.40429 NA      NA     \n",
       "    Sensor7 Sensor8  Sensor9  Sensor10 Sensor11 Sensor12 Sensor13\n",
       "310 NA      52.90818 78.76773 NA       NA       56.45500 NA      \n",
       "311 NA      53.37480 76.29560 NA       NA       57.38400 NA      \n",
       "312 NA      50.96000 71.89040 NA       NA       56.10880 NA      \n",
       "313 NA      49.54417 67.82333 NA       NA       53.59667 NA      \n",
       "314 NA      51.13200 74.54600 NA       NA       55.30200 NA      \n",
       "315 NA      50.61857       NA NA       NA       55.72857 NA      "
      ]
     },
     "metadata": {},
     "output_type": "display_data"
    },
    {
     "data": {
      "text/html": [
       "'Tail end of weather data:'"
      ],
      "text/latex": [
       "'Tail end of weather data:'"
      ],
      "text/markdown": [
       "'Tail end of weather data:'"
      ],
      "text/plain": [
       "[1] \"Tail end of weather data:\""
      ]
     },
     "metadata": {},
     "output_type": "display_data"
    },
    {
     "data": {
      "text/html": [
       "<table>\n",
       "<thead><tr><th></th><th scope=col>Date</th><th scope=col>TemperatureHighC</th><th scope=col>TemperatureAvgC</th><th scope=col>TemperatureLowC</th><th scope=col>DewpointHighF</th><th scope=col>DewpointAvgF</th><th scope=col>DewpointLowF</th><th scope=col>HumidityHigh</th><th scope=col>HumidityAvg</th><th scope=col>HumidityLow</th><th scope=col>PressureMaxIn</th><th scope=col>PressureMinIn</th><th scope=col>WindSpeedMaxMPH</th><th scope=col>WindSpeedAvgMPH</th><th scope=col>GustSpeedMaxMPH</th><th scope=col>PrecipitationSumIn</th></tr></thead>\n",
       "<tbody>\n",
       "\t<tr><th scope=row>309</th><td>2013-02-19</td><td>-1.1      </td><td>-3.9      </td><td> -6.7     </td><td>24        </td><td>20        </td><td>14        </td><td>95        </td><td>80        </td><td>50        </td><td>0         </td><td>40        </td><td>21        </td><td> 7        </td><td>33        </td><td>0         </td></tr>\n",
       "\t<tr><th scope=row>310</th><td>2013-02-20</td><td>-2.2      </td><td>-5.6      </td><td> -7.8     </td><td>19        </td><td>14        </td><td> 6        </td><td>94        </td><td>72        </td><td>47        </td><td>0         </td><td>40        </td><td>26        </td><td>17        </td><td>38        </td><td>0         </td></tr>\n",
       "\t<tr><th scope=row>311</th><td>2013-02-21</td><td> 0.6      </td><td>-4.4      </td><td> -8.3     </td><td>17        </td><td>15        </td><td>11        </td><td>92        </td><td>70        </td><td>40        </td><td>0         </td><td>40        </td><td>20        </td><td> 9        </td><td>29        </td><td>0         </td></tr>\n",
       "\t<tr><th scope=row>312</th><td>2013-02-22</td><td> 3.3      </td><td>-2.2      </td><td> -7.8     </td><td>26        </td><td>20        </td><td>15        </td><td>94        </td><td>73        </td><td>47        </td><td>0         </td><td>40        </td><td>11        </td><td> 5        </td><td>26        </td><td>0         </td></tr>\n",
       "\t<tr><th scope=row>313</th><td>2013-02-23</td><td>-0.6      </td><td>-5.6      </td><td> -8.9     </td><td>27        </td><td>16        </td><td>11        </td><td>96        </td><td>78        </td><td>53        </td><td>0         </td><td>40        </td><td>26        </td><td>14        </td><td>46        </td><td>0         </td></tr>\n",
       "\t<tr><th scope=row>314</th><td>2013-02-24</td><td> 1.1      </td><td>-5.0      </td><td>-10.0     </td><td>15        </td><td>11        </td><td> 6        </td><td>87        </td><td>62        </td><td>42        </td><td>0         </td><td>40        </td><td>21        </td><td> 6        </td><td>29        </td><td>0         </td></tr>\n",
       "</tbody>\n",
       "</table>\n"
      ],
      "text/latex": [
       "\\begin{tabular}{r|llllllllllllllll}\n",
       "  & Date & TemperatureHighC & TemperatureAvgC & TemperatureLowC & DewpointHighF & DewpointAvgF & DewpointLowF & HumidityHigh & HumidityAvg & HumidityLow & PressureMaxIn & PressureMinIn & WindSpeedMaxMPH & WindSpeedAvgMPH & GustSpeedMaxMPH & PrecipitationSumIn\\\\\n",
       "\\hline\n",
       "\t309 & 2013-02-19 & -1.1       & -3.9       &  -6.7      & 24         & 20         & 14         & 95         & 80         & 50         & 0          & 40         & 21         &  7         & 33         & 0         \\\\\n",
       "\t310 & 2013-02-20 & -2.2       & -5.6       &  -7.8      & 19         & 14         &  6         & 94         & 72         & 47         & 0          & 40         & 26         & 17         & 38         & 0         \\\\\n",
       "\t311 & 2013-02-21 &  0.6       & -4.4       &  -8.3      & 17         & 15         & 11         & 92         & 70         & 40         & 0          & 40         & 20         &  9         & 29         & 0         \\\\\n",
       "\t312 & 2013-02-22 &  3.3       & -2.2       &  -7.8      & 26         & 20         & 15         & 94         & 73         & 47         & 0          & 40         & 11         &  5         & 26         & 0         \\\\\n",
       "\t313 & 2013-02-23 & -0.6       & -5.6       &  -8.9      & 27         & 16         & 11         & 96         & 78         & 53         & 0          & 40         & 26         & 14         & 46         & 0         \\\\\n",
       "\t314 & 2013-02-24 &  1.1       & -5.0       & -10.0      & 15         & 11         &  6         & 87         & 62         & 42         & 0          & 40         & 21         &  6         & 29         & 0         \\\\\n",
       "\\end{tabular}\n"
      ],
      "text/markdown": [
       "\n",
       "| <!--/--> | Date | TemperatureHighC | TemperatureAvgC | TemperatureLowC | DewpointHighF | DewpointAvgF | DewpointLowF | HumidityHigh | HumidityAvg | HumidityLow | PressureMaxIn | PressureMinIn | WindSpeedMaxMPH | WindSpeedAvgMPH | GustSpeedMaxMPH | PrecipitationSumIn | \n",
       "|---|---|---|---|---|---|\n",
       "| 309 | 2013-02-19 | -1.1       | -3.9       |  -6.7      | 24         | 20         | 14         | 95         | 80         | 50         | 0          | 40         | 21         |  7         | 33         | 0          | \n",
       "| 310 | 2013-02-20 | -2.2       | -5.6       |  -7.8      | 19         | 14         |  6         | 94         | 72         | 47         | 0          | 40         | 26         | 17         | 38         | 0          | \n",
       "| 311 | 2013-02-21 |  0.6       | -4.4       |  -8.3      | 17         | 15         | 11         | 92         | 70         | 40         | 0          | 40         | 20         |  9         | 29         | 0          | \n",
       "| 312 | 2013-02-22 |  3.3       | -2.2       |  -7.8      | 26         | 20         | 15         | 94         | 73         | 47         | 0          | 40         | 11         |  5         | 26         | 0          | \n",
       "| 313 | 2013-02-23 | -0.6       | -5.6       |  -8.9      | 27         | 16         | 11         | 96         | 78         | 53         | 0          | 40         | 26         | 14         | 46         | 0          | \n",
       "| 314 | 2013-02-24 |  1.1       | -5.0       | -10.0      | 15         | 11         |  6         | 87         | 62         | 42         | 0          | 40         | 21         |  6         | 29         | 0          | \n",
       "\n",
       "\n"
      ],
      "text/plain": [
       "    Date       TemperatureHighC TemperatureAvgC TemperatureLowC DewpointHighF\n",
       "309 2013-02-19 -1.1             -3.9             -6.7           24           \n",
       "310 2013-02-20 -2.2             -5.6             -7.8           19           \n",
       "311 2013-02-21  0.6             -4.4             -8.3           17           \n",
       "312 2013-02-22  3.3             -2.2             -7.8           26           \n",
       "313 2013-02-23 -0.6             -5.6             -8.9           27           \n",
       "314 2013-02-24  1.1             -5.0            -10.0           15           \n",
       "    DewpointAvgF DewpointLowF HumidityHigh HumidityAvg HumidityLow\n",
       "309 20           14           95           80          50         \n",
       "310 14            6           94           72          47         \n",
       "311 15           11           92           70          40         \n",
       "312 20           15           94           73          47         \n",
       "313 16           11           96           78          53         \n",
       "314 11            6           87           62          42         \n",
       "    PressureMaxIn PressureMinIn WindSpeedMaxMPH WindSpeedAvgMPH GustSpeedMaxMPH\n",
       "309 0             40            21               7              33             \n",
       "310 0             40            26              17              38             \n",
       "311 0             40            20               9              29             \n",
       "312 0             40            11               5              26             \n",
       "313 0             40            26              14              46             \n",
       "314 0             40            21               6              29             \n",
       "    PrecipitationSumIn\n",
       "309 0                 \n",
       "310 0                 \n",
       "311 0                 \n",
       "312 0                 \n",
       "313 0                 \n",
       "314 0                 "
      ]
     },
     "metadata": {},
     "output_type": "display_data"
    }
   ],
   "source": [
    "# BENTO and weather data start on the same day, but weather reports end a day too early.\n",
    "\"Tail end of BENTO sensor readings:\"\n",
    "tail(bento_daily)\n",
    "\"Tail end of weather data:\"\n",
    "tail(weather)"
   ]
  },
  {
   "cell_type": "code",
   "execution_count": 7,
   "metadata": {},
   "outputs": [
    {
     "data": {
      "text/html": [
       "'TRUE'"
      ],
      "text/latex": [
       "'TRUE'"
      ],
      "text/markdown": [
       "'TRUE'"
      ],
      "text/plain": [
       "[1] \"TRUE\""
      ]
     },
     "metadata": {},
     "output_type": "display_data"
    },
    {
     "data": {
      "text/html": [
       "'(Should be TRUE for date match between BENTO and weather datasets)'"
      ],
      "text/latex": [
       "'(Should be TRUE for date match between BENTO and weather datasets)'"
      ],
      "text/markdown": [
       "'(Should be TRUE for date match between BENTO and weather datasets)'"
      ],
      "text/plain": [
       "[1] \"(Should be TRUE for date match between BENTO and weather datasets)\""
      ]
     },
     "metadata": {},
     "output_type": "display_data"
    }
   ],
   "source": [
    "# Snip off the last day in Bento for a complete date match between datasets.\n",
    "bento_daily_trim <- bento_daily[1:nrow(bento_daily)-1, ]\n",
    "\n",
    "# Then make sure dates match between BENTO and weather datasets:\n",
    "levels(factor(bento_daily_trim[, 1] == weather[, 1]))\n",
    "\"(Should be TRUE for date match between BENTO and weather datasets)\""
   ]
  },
  {
   "cell_type": "code",
   "execution_count": 8,
   "metadata": {},
   "outputs": [
    {
     "data": {
      "text/html": [
       "<dl class=dl-horizontal>\n",
       "\t<dt>Sensor0</dt>\n",
       "\t\t<dd>49.3142003352776</dd>\n",
       "\t<dt>Sensor1</dt>\n",
       "\t\t<dd>51.3317082267499</dd>\n",
       "\t<dt>Sensor2</dt>\n",
       "\t\t<dd>50.9098408529728</dd>\n",
       "\t<dt>Sensor3</dt>\n",
       "\t\t<dd>&lt;NA&gt;</dd>\n",
       "\t<dt>Sensor4</dt>\n",
       "\t\t<dd>50.1325051749363</dd>\n",
       "\t<dt>Sensor5</dt>\n",
       "\t\t<dd>&lt;NA&gt;</dd>\n",
       "\t<dt>Sensor6</dt>\n",
       "\t\t<dd>&lt;NA&gt;</dd>\n",
       "\t<dt>Sensor7</dt>\n",
       "\t\t<dd>&lt;NA&gt;</dd>\n",
       "\t<dt>Sensor8</dt>\n",
       "\t\t<dd>55.6142325108879</dd>\n",
       "\t<dt>Sensor9</dt>\n",
       "\t\t<dd>&lt;NA&gt;</dd>\n",
       "\t<dt>Sensor10</dt>\n",
       "\t\t<dd>&lt;NA&gt;</dd>\n",
       "\t<dt>Sensor11</dt>\n",
       "\t\t<dd>&lt;NA&gt;</dd>\n",
       "\t<dt>Sensor12</dt>\n",
       "\t\t<dd>56.7064976338187</dd>\n",
       "\t<dt>Sensor13</dt>\n",
       "\t\t<dd>&lt;NA&gt;</dd>\n",
       "</dl>\n"
      ],
      "text/latex": [
       "\\begin{description*}\n",
       "\\item[Sensor0] 49.3142003352776\n",
       "\\item[Sensor1] 51.3317082267499\n",
       "\\item[Sensor2] 50.9098408529728\n",
       "\\item[Sensor3] <NA>\n",
       "\\item[Sensor4] 50.1325051749363\n",
       "\\item[Sensor5] <NA>\n",
       "\\item[Sensor6] <NA>\n",
       "\\item[Sensor7] <NA>\n",
       "\\item[Sensor8] 55.6142325108879\n",
       "\\item[Sensor9] <NA>\n",
       "\\item[Sensor10] <NA>\n",
       "\\item[Sensor11] <NA>\n",
       "\\item[Sensor12] 56.7064976338187\n",
       "\\item[Sensor13] <NA>\n",
       "\\end{description*}\n"
      ],
      "text/markdown": [
       "Sensor0\n",
       ":   49.3142003352776Sensor1\n",
       ":   51.3317082267499Sensor2\n",
       ":   50.9098408529728Sensor3\n",
       ":   &lt;NA&gt;Sensor4\n",
       ":   50.1325051749363Sensor5\n",
       ":   &lt;NA&gt;Sensor6\n",
       ":   &lt;NA&gt;Sensor7\n",
       ":   &lt;NA&gt;Sensor8\n",
       ":   55.6142325108879Sensor9\n",
       ":   &lt;NA&gt;Sensor10\n",
       ":   &lt;NA&gt;Sensor11\n",
       ":   &lt;NA&gt;Sensor12\n",
       ":   56.7064976338187Sensor13\n",
       ":   &lt;NA&gt;\n",
       "\n"
      ],
      "text/plain": [
       " Sensor0  Sensor1  Sensor2  Sensor3  Sensor4  Sensor5  Sensor6  Sensor7 \n",
       "49.31420 51.33171 50.90984       NA 50.13251       NA       NA       NA \n",
       " Sensor8  Sensor9 Sensor10 Sensor11 Sensor12 Sensor13 \n",
       "55.61423       NA       NA       NA 56.70650       NA "
      ]
     },
     "metadata": {},
     "output_type": "display_data"
    },
    {
     "data": {
      "text/html": [
       "'Sensors with &lt;NA&gt; did not record the entire duration.'"
      ],
      "text/latex": [
       "'Sensors with <NA> did not record the entire duration.'"
      ],
      "text/markdown": [
       "'Sensors with &lt;NA&gt; did not record the entire duration.'"
      ],
      "text/plain": [
       "[1] \"Sensors with <NA> did not record the entire duration.\""
      ]
     },
     "metadata": {},
     "output_type": "display_data"
    }
   ],
   "source": [
    "# Check how many sensors logged data the entire duration without malfunctioning.\n",
    "colMeans(bento_daily_trim[, c(2:15)])\n",
    "\"Sensors with <NA> did not record the entire duration.\""
   ]
  },
  {
   "cell_type": "code",
   "execution_count": 9,
   "metadata": {},
   "outputs": [
    {
     "data": {
      "text/html": [
       "'\\'Ave\\' column added for daily average across all \\'good\\' BENTO sensors'"
      ],
      "text/latex": [
       "'\\textbackslash{}'Ave\\textbackslash{}' column added for daily average across all \\textbackslash{}'good\\textbackslash{}' BENTO sensors'"
      ],
      "text/markdown": [
       "'\\'Ave\\' column added for daily average across all \\'good\\' BENTO sensors'"
      ],
      "text/plain": [
       "[1] \"'Ave' column added for daily average across all 'good' BENTO sensors\""
      ]
     },
     "metadata": {},
     "output_type": "display_data"
    },
    {
     "data": {
      "text/html": [
       "<table>\n",
       "<thead><tr><th scope=col>Group.1</th><th scope=col>Sensor0</th><th scope=col>Sensor1</th><th scope=col>Sensor2</th><th scope=col>Sensor3</th><th scope=col>Sensor4</th><th scope=col>Sensor5</th><th scope=col>Sensor6</th><th scope=col>Sensor7</th><th scope=col>Sensor8</th><th scope=col>Sensor9</th><th scope=col>Sensor10</th><th scope=col>Sensor11</th><th scope=col>Sensor12</th><th scope=col>Sensor13</th><th scope=col>Ave</th></tr></thead>\n",
       "<tbody>\n",
       "\t<tr><td>2012-04-17</td><td>42.82192  </td><td>43.56885  </td><td>46.87154  </td><td>54.56423  </td><td>44.95423  </td><td>44.25538  </td><td>43.51231  </td><td>21.25962  </td><td>48.10308  </td><td>55.31962  </td><td>52.34885  </td><td>56.35115  </td><td>57.09692  </td><td>53.14308  </td><td>47.23609  </td></tr>\n",
       "\t<tr><td>2012-04-18</td><td>38.58652  </td><td>40.59826  </td><td>42.11913  </td><td>53.61348  </td><td>40.10130  </td><td>41.98913  </td><td>42.14696  </td><td>16.88174  </td><td>47.00739  </td><td>55.00565  </td><td>50.91391  </td><td>55.92652  </td><td>55.91783  </td><td>      NA  </td><td>44.05507  </td></tr>\n",
       "\t<tr><td>2012-04-19</td><td>38.47087  </td><td>44.17870  </td><td>42.12043  </td><td>55.86000  </td><td>43.41304  </td><td>      NA  </td><td>44.02130  </td><td>19.10565  </td><td>47.88783  </td><td>56.19174  </td><td>53.02522  </td><td>57.38217  </td><td>57.99043  </td><td>      NA  </td><td>45.67688  </td></tr>\n",
       "\t<tr><td>2012-04-20</td><td>39.82760  </td><td>48.24040  </td><td>43.68240  </td><td>58.67320  </td><td>48.13800  </td><td>      NA  </td><td>47.19200  </td><td>23.26680  </td><td>51.71400  </td><td>60.08480  </td><td>57.31240  </td><td>61.20160  </td><td>61.72920  </td><td>      NA  </td><td>48.88860  </td></tr>\n",
       "\t<tr><td>2012-04-21</td><td>45.12130  </td><td>47.57261  </td><td>47.86957  </td><td>58.41783  </td><td>47.52000  </td><td>      NA  </td><td>49.96174  </td><td>26.11000  </td><td>52.84304  </td><td>60.45348  </td><td>57.28087  </td><td>62.03609  </td><td>62.13565  </td><td>      NA  </td><td>50.51036  </td></tr>\n",
       "\t<tr><td>2012-04-22</td><td>43.88391  </td><td>46.29174  </td><td>46.46957  </td><td>57.03739  </td><td>43.46348  </td><td>      NA  </td><td>48.55304  </td><td>27.07913  </td><td>51.36739  </td><td>58.67130  </td><td>55.46870  </td><td>60.83000  </td><td>60.54435  </td><td>      NA  </td><td>48.67007  </td></tr>\n",
       "</tbody>\n",
       "</table>\n"
      ],
      "text/latex": [
       "\\begin{tabular}{r|llllllllllllllll}\n",
       " Group.1 & Sensor0 & Sensor1 & Sensor2 & Sensor3 & Sensor4 & Sensor5 & Sensor6 & Sensor7 & Sensor8 & Sensor9 & Sensor10 & Sensor11 & Sensor12 & Sensor13 & Ave\\\\\n",
       "\\hline\n",
       "\t 2012-04-17 & 42.82192   & 43.56885   & 46.87154   & 54.56423   & 44.95423   & 44.25538   & 43.51231   & 21.25962   & 48.10308   & 55.31962   & 52.34885   & 56.35115   & 57.09692   & 53.14308   & 47.23609  \\\\\n",
       "\t 2012-04-18 & 38.58652   & 40.59826   & 42.11913   & 53.61348   & 40.10130   & 41.98913   & 42.14696   & 16.88174   & 47.00739   & 55.00565   & 50.91391   & 55.92652   & 55.91783   &       NA   & 44.05507  \\\\\n",
       "\t 2012-04-19 & 38.47087   & 44.17870   & 42.12043   & 55.86000   & 43.41304   &       NA   & 44.02130   & 19.10565   & 47.88783   & 56.19174   & 53.02522   & 57.38217   & 57.99043   &       NA   & 45.67688  \\\\\n",
       "\t 2012-04-20 & 39.82760   & 48.24040   & 43.68240   & 58.67320   & 48.13800   &       NA   & 47.19200   & 23.26680   & 51.71400   & 60.08480   & 57.31240   & 61.20160   & 61.72920   &       NA   & 48.88860  \\\\\n",
       "\t 2012-04-21 & 45.12130   & 47.57261   & 47.86957   & 58.41783   & 47.52000   &       NA   & 49.96174   & 26.11000   & 52.84304   & 60.45348   & 57.28087   & 62.03609   & 62.13565   &       NA   & 50.51036  \\\\\n",
       "\t 2012-04-22 & 43.88391   & 46.29174   & 46.46957   & 57.03739   & 43.46348   &       NA   & 48.55304   & 27.07913   & 51.36739   & 58.67130   & 55.46870   & 60.83000   & 60.54435   &       NA   & 48.67007  \\\\\n",
       "\\end{tabular}\n"
      ],
      "text/markdown": [
       "\n",
       "Group.1 | Sensor0 | Sensor1 | Sensor2 | Sensor3 | Sensor4 | Sensor5 | Sensor6 | Sensor7 | Sensor8 | Sensor9 | Sensor10 | Sensor11 | Sensor12 | Sensor13 | Ave | \n",
       "|---|---|---|---|---|---|\n",
       "| 2012-04-17 | 42.82192   | 43.56885   | 46.87154   | 54.56423   | 44.95423   | 44.25538   | 43.51231   | 21.25962   | 48.10308   | 55.31962   | 52.34885   | 56.35115   | 57.09692   | 53.14308   | 47.23609   | \n",
       "| 2012-04-18 | 38.58652   | 40.59826   | 42.11913   | 53.61348   | 40.10130   | 41.98913   | 42.14696   | 16.88174   | 47.00739   | 55.00565   | 50.91391   | 55.92652   | 55.91783   |       NA   | 44.05507   | \n",
       "| 2012-04-19 | 38.47087   | 44.17870   | 42.12043   | 55.86000   | 43.41304   |       NA   | 44.02130   | 19.10565   | 47.88783   | 56.19174   | 53.02522   | 57.38217   | 57.99043   |       NA   | 45.67688   | \n",
       "| 2012-04-20 | 39.82760   | 48.24040   | 43.68240   | 58.67320   | 48.13800   |       NA   | 47.19200   | 23.26680   | 51.71400   | 60.08480   | 57.31240   | 61.20160   | 61.72920   |       NA   | 48.88860   | \n",
       "| 2012-04-21 | 45.12130   | 47.57261   | 47.86957   | 58.41783   | 47.52000   |       NA   | 49.96174   | 26.11000   | 52.84304   | 60.45348   | 57.28087   | 62.03609   | 62.13565   |       NA   | 50.51036   | \n",
       "| 2012-04-22 | 43.88391   | 46.29174   | 46.46957   | 57.03739   | 43.46348   |       NA   | 48.55304   | 27.07913   | 51.36739   | 58.67130   | 55.46870   | 60.83000   | 60.54435   |       NA   | 48.67007   | \n",
       "\n",
       "\n"
      ],
      "text/plain": [
       "  Group.1    Sensor0  Sensor1  Sensor2  Sensor3  Sensor4  Sensor5  Sensor6 \n",
       "1 2012-04-17 42.82192 43.56885 46.87154 54.56423 44.95423 44.25538 43.51231\n",
       "2 2012-04-18 38.58652 40.59826 42.11913 53.61348 40.10130 41.98913 42.14696\n",
       "3 2012-04-19 38.47087 44.17870 42.12043 55.86000 43.41304       NA 44.02130\n",
       "4 2012-04-20 39.82760 48.24040 43.68240 58.67320 48.13800       NA 47.19200\n",
       "5 2012-04-21 45.12130 47.57261 47.86957 58.41783 47.52000       NA 49.96174\n",
       "6 2012-04-22 43.88391 46.29174 46.46957 57.03739 43.46348       NA 48.55304\n",
       "  Sensor7  Sensor8  Sensor9  Sensor10 Sensor11 Sensor12 Sensor13 Ave     \n",
       "1 21.25962 48.10308 55.31962 52.34885 56.35115 57.09692 53.14308 47.23609\n",
       "2 16.88174 47.00739 55.00565 50.91391 55.92652 55.91783       NA 44.05507\n",
       "3 19.10565 47.88783 56.19174 53.02522 57.38217 57.99043       NA 45.67688\n",
       "4 23.26680 51.71400 60.08480 57.31240 61.20160 61.72920       NA 48.88860\n",
       "5 26.11000 52.84304 60.45348 57.28087 62.03609 62.13565       NA 50.51036\n",
       "6 27.07913 51.36739 58.67130 55.46870 60.83000 60.54435       NA 48.67007"
      ]
     },
     "metadata": {},
     "output_type": "display_data"
    }
   ],
   "source": [
    "# Note these normally-functioning sensors as \"good\".\n",
    "good_sensors <- c(\"Sensor0\", \"Sensor1\", \"Sensor2\",\n",
    "                  \"Sensor4\", \"Sensor8\", \"Sensor12\")\n",
    "\n",
    "# find daily average of all \"good\" BENTO sensors and report in new \"Ave\" column\n",
    "bento_daily_trim$Ave <-apply(bento_daily_trim[, good_sensors], MARGIN = 1, mean)\n",
    "\"'Ave' column added for daily average across all 'good' BENTO sensors\"\n",
    "head(bento_daily_trim)"
   ]
  },
  {
   "cell_type": "code",
   "execution_count": 10,
   "metadata": {},
   "outputs": [
    {
     "data": {
      "image/png": "[encoded data removed]",
      "text/plain": [
       "plot without title"
      ]
     },
     "metadata": {},
     "output_type": "display_data"
    }
   ],
   "source": [
    "# Plot Bento Sensor0 daily average vs. average air temperature\n",
    "pcols <- c(\"red\", \"orange\", \"yellow\", \"green\", \"blue\", \"purple\")\n",
    "\n",
    "plot(weather$TemperatureAvgC, bento_daily_trim$Sensor0,\n",
    "  xlab = expression(paste(\"Average daily air temperature [\",degree,\"C]\")),\n",
    "  ylab = expression(paste(\"Average daily hot spring temperature [\",degree,\"C]\")),\n",
    "  ylim = c(15, 70), col = pcols[1])\n",
    "points(weather$TemperatureAvgC, bento_daily_trim$Sensor1, col = pcols[2])\n",
    "points(weather$TemperatureAvgC, bento_daily_trim$Sensor2, col = pcols[3])\n",
    "points(weather$TemperatureAvgC, bento_daily_trim$Sensor4, col = pcols[4])\n",
    "points(weather$TemperatureAvgC, bento_daily_trim$Sensor8, col = pcols[5])\n",
    "points(weather$TemperatureAvgC, bento_daily_trim$Sensor12, col = pcols[6])\n",
    "points(weather$TemperatureAvgC, bento_daily_trim$Ave, col = \"black\", pch = 3)\n",
    "\n",
    "legend(\"bottomleft\", legend = c(good_sensors, \"Sensor ave.\"),\n",
    "  col = c(pcols, \"black\"), pch = c(rep(1, 6), 3))\n",
    "\n",
    "# Add trendlines\n",
    "abline(lm(bento_daily_trim$Ave ~ weather$TemperatureAvgC), lwd = 3)"
   ]
  },
  {
   "cell_type": "code",
   "execution_count": 11,
   "metadata": {},
   "outputs": [
    {
     "data": {
      "text/plain": [
       "\n",
       "Call:\n",
       "lm(formula = bento_daily_trim$Ave ~ weather$TemperatureAvgC)\n",
       "\n",
       "Residuals:\n",
       "    Min      1Q  Median      3Q     Max \n",
       "-7.5013 -1.1874  0.2734  1.4836  5.7459 \n",
       "\n",
       "Coefficients:\n",
       "                        Estimate Std. Error t value Pr(>|t|)    \n",
       "(Intercept)             50.81960    0.17109  297.04   <2e-16 ***\n",
       "weather$TemperatureAvgC  0.16744    0.01286   13.02   <2e-16 ***\n",
       "---\n",
       "Signif. codes:  0 '***' 0.001 '**' 0.01 '*' 0.05 '.' 0.1 ' ' 1\n",
       "\n",
       "Residual standard error: 2.222 on 312 degrees of freedom\n",
       "Multiple R-squared:  0.3519,\tAdjusted R-squared:  0.3498 \n",
       "F-statistic: 169.4 on 1 and 312 DF,  p-value: < 2.2e-16\n"
      ]
     },
     "metadata": {},
     "output_type": "display_data"
    }
   ],
   "source": [
    "# Summarize relationship between daily average sensor reading and air temperature.\n",
    "summary(lm(bento_daily_trim$Ave ~ weather$TemperatureAvgC))"
   ]
  },
  {
   "cell_type": "markdown",
   "metadata": {},
   "source": [
    "There is a positive correlation between average daily air temperature and the daily hot spring temperature averaged across BENTO sensors at Great Boiling Spring, NV, though with an R-squared of about 0.35, this correlation is fairly weak. That said, a small p-value (< 0.001) indicates that the slope of the correlation is unlikely to be zero. If air temperature indeed has an effect on hot spring temperature, it could get convoluted by other factors such as punctuated rainfall, etc. Certain parts of a hot spring might also be more or less influenced by air temperature, such as a shallow area vs. deeper down, so taking an average sensor reading might not be truly representative of the complexity of the whole system."
   ]
  },
  {
   "cell_type": "code",
   "execution_count": 12,
   "metadata": {},
   "outputs": [
    {
     "data": {
      "image/png": "[encoded data removed]",
      "text/plain": [
       "plot without title"
      ]
     },
     "metadata": {},
     "output_type": "display_data"
    }
   ],
   "source": [
    "# Plot daily average air temperature and daily average hot spring reading against time\n",
    "plot(weather$Date, bento_daily_trim$Ave, type = \"l\",\n",
    "  xlab = \"Date\",\n",
    "  ylab = expression(paste(\"Average daily temperature [\",degree,\"C]\")),\n",
    "  ylim = c(-20, 70), col = \"red\")\n",
    "lines(weather$Date, weather$TemperatureAvgC, col = \"blue\")\n",
    "legend(\"bottomleft\", legend = c(\"Hot spring\", \"Air\"), col = c(\"red\", \"blue\"),\n",
    "  lty = rep(1, 7))"
   ]
  },
  {
   "cell_type": "markdown",
   "metadata": {},
   "source": [
    "At first glance, it appears as though there could be a correlation; both daily average air and hot spring temperatures look coolest in the winter and hottest in the summer. There is much more variability with air temperature than with hot spring temperature (which has a much more subtle variability), though this is perhaps to be expected given that the heat capacity of water is so much greater than that of air."
   ]
  },
  {
   "cell_type": "markdown",
   "metadata": {},
   "source": [
    " Seasonal fluctuations become more apparent with data plotted on two y-axes:"
   ]
  },
  {
   "cell_type": "code",
   "execution_count": 13,
   "metadata": {},
   "outputs": [
    {
     "data": {
      "image/png": "[encoded data removed]",
      "text/plain": [
       "plot without title"
      ]
     },
     "metadata": {},
     "output_type": "display_data"
    }
   ],
   "source": [
    "x <- weather$Date\n",
    "y <- bento_daily_trim$Ave\n",
    "z <- weather$TemperatureAvgC\n",
    "par(mar = c(5, 4, 4, 4) + 0.3)  # Leave space for z axis\n",
    "plot(x, y, type = \"l\",\n",
    "  xlab = \"Date\",\n",
    "  ylab = \"\",\n",
    "  col = \"red\", lwd = 1)\n",
    "mtext(expression(paste(\"Average hot spring temp. [\",degree,\"C]\")), side=2, line=3, col = \"red\")\n",
    "par(new = TRUE)\n",
    "plot(x, z, type = \"l\", axes = FALSE, bty = \"n\", xlab = \"\", ylab = \"\",\n",
    "  col = \"blue\", lwd = 1)\n",
    "axis(side = 4, at = pretty(range(z)))\n",
    "mtext(expression(paste(\"Average air temp. [\",degree,\"C]\")), side=4, line=3, col = \"blue\")"
   ]
  },
  {
   "cell_type": "markdown",
   "metadata": {},
   "source": [
    "### Do precipitation events affect hot spring temperature?\n",
    "\n",
    "*Hypothesis*: if cool meteoric (rain) water is seeping into the hot spring, this could result in a sharp dip in temperature readings from BENTO sensors.\n",
    "\n",
    "*Strategy*: find local minima in hot spring temperatures and check if a rain event occured sometime prior within 3 days. Additionally, find rain events within a day of local hot spring maxima, as rainfall "
   ]
  },
  {
   "cell_type": "code",
   "execution_count": 14,
   "metadata": {
    "collapsed": true
   },
   "outputs": [],
   "source": [
    "# function for finding local max/minima (taken from StackExchange)\n",
    "# m is the minimum number of points on either side that must be lower/higher\n",
    "# for a point to be reported as a local max/minima.\n",
    "# For minima, use -x when using this function.\n",
    "find_peaks <- function (x, m = 3){\n",
    "    shape <- diff(sign(diff(x, na.pad = FALSE)))\n",
    "    pks <- sapply(which(shape < 0), FUN = function(i){\n",
    "       z <- i - m + 1\n",
    "       z <- ifelse(z > 0, z, 1)\n",
    "       w <- i + m + 1\n",
    "       w <- ifelse(w < length(x), w, length(x))\n",
    "       if(all(x[c(z : i, (i + 2) : w)] <= x[i + 1])) return(i + 1) else return(numeric(0))\n",
    "    })\n",
    "     pks <- unlist(pks)\n",
    "     pks\n",
    "}"
   ]
  },
  {
   "cell_type": "code",
   "execution_count": 15,
   "metadata": {},
   "outputs": [
    {
     "data": {
      "text/html": [
       "'Local minima in BENTO average daily temperatures:'"
      ],
      "text/latex": [
       "'Local minima in BENTO average daily temperatures:'"
      ],
      "text/markdown": [
       "'Local minima in BENTO average daily temperatures:'"
      ],
      "text/plain": [
       "[1] \"Local minima in BENTO average daily temperatures:\""
      ]
     },
     "metadata": {},
     "output_type": "display_data"
    },
    {
     "data": {
      "text/html": [
       "<ol class=list-inline>\n",
       "\t<li><time datetime=\"2012-04-18\">2012-04-18</time></li>\n",
       "\t<li><time datetime=\"2012-04-27\">2012-04-27</time></li>\n",
       "\t<li><time datetime=\"2012-05-06\">2012-05-06</time></li>\n",
       "\t<li><time datetime=\"2012-05-18\">2012-05-18</time></li>\n",
       "\t<li><time datetime=\"2012-06-05\">2012-06-05</time></li>\n",
       "\t<li><time datetime=\"2012-06-23\">2012-06-23</time></li>\n",
       "\t<li><time datetime=\"2012-07-09\">2012-07-09</time></li>\n",
       "\t<li><time datetime=\"2012-07-19\">2012-07-19</time></li>\n",
       "\t<li><time datetime=\"2012-07-27\">2012-07-27</time></li>\n",
       "\t<li><time datetime=\"2012-08-27\">2012-08-27</time></li>\n",
       "\t<li><time datetime=\"2012-09-13\">2012-09-13</time></li>\n",
       "\t<li><time datetime=\"2012-09-24\">2012-09-24</time></li>\n",
       "\t<li><time datetime=\"2012-10-07\">2012-10-07</time></li>\n",
       "\t<li><time datetime=\"2012-10-13\">2012-10-13</time></li>\n",
       "\t<li><time datetime=\"2012-10-23\">2012-10-23</time></li>\n",
       "\t<li><time datetime=\"2012-11-01\">2012-11-01</time></li>\n",
       "\t<li><time datetime=\"2012-11-09\">2012-11-09</time></li>\n",
       "\t<li><time datetime=\"2012-11-22\">2012-11-22</time></li>\n",
       "\t<li><time datetime=\"2012-12-02\">2012-12-02</time></li>\n",
       "\t<li><time datetime=\"2012-12-17\">2012-12-17</time></li>\n",
       "\t<li><time datetime=\"2013-01-01\">2013-01-01</time></li>\n",
       "\t<li><time datetime=\"2013-01-14\">2013-01-14</time></li>\n",
       "\t<li><time datetime=\"2013-01-30\">2013-01-30</time></li>\n",
       "\t<li><time datetime=\"2013-02-09\">2013-02-09</time></li>\n",
       "\t<li><time datetime=\"2013-02-15\">2013-02-15</time></li>\n",
       "\t<li><time datetime=\"2013-02-23\">2013-02-23</time></li>\n",
       "</ol>\n"
      ],
      "text/latex": [
       "\\begin{enumerate*}\n",
       "\\item 2012-04-18\n",
       "\\item 2012-04-27\n",
       "\\item 2012-05-06\n",
       "\\item 2012-05-18\n",
       "\\item 2012-06-05\n",
       "\\item 2012-06-23\n",
       "\\item 2012-07-09\n",
       "\\item 2012-07-19\n",
       "\\item 2012-07-27\n",
       "\\item 2012-08-27\n",
       "\\item 2012-09-13\n",
       "\\item 2012-09-24\n",
       "\\item 2012-10-07\n",
       "\\item 2012-10-13\n",
       "\\item 2012-10-23\n",
       "\\item 2012-11-01\n",
       "\\item 2012-11-09\n",
       "\\item 2012-11-22\n",
       "\\item 2012-12-02\n",
       "\\item 2012-12-17\n",
       "\\item 2013-01-01\n",
       "\\item 2013-01-14\n",
       "\\item 2013-01-30\n",
       "\\item 2013-02-09\n",
       "\\item 2013-02-15\n",
       "\\item 2013-02-23\n",
       "\\end{enumerate*}\n"
      ],
      "text/markdown": [
       "1. 2012-04-18\n",
       "2. 2012-04-27\n",
       "3. 2012-05-06\n",
       "4. 2012-05-18\n",
       "5. 2012-06-05\n",
       "6. 2012-06-23\n",
       "7. 2012-07-09\n",
       "8. 2012-07-19\n",
       "9. 2012-07-27\n",
       "10. 2012-08-27\n",
       "11. 2012-09-13\n",
       "12. 2012-09-24\n",
       "13. 2012-10-07\n",
       "14. 2012-10-13\n",
       "15. 2012-10-23\n",
       "16. 2012-11-01\n",
       "17. 2012-11-09\n",
       "18. 2012-11-22\n",
       "19. 2012-12-02\n",
       "20. 2012-12-17\n",
       "21. 2013-01-01\n",
       "22. 2013-01-14\n",
       "23. 2013-01-30\n",
       "24. 2013-02-09\n",
       "25. 2013-02-15\n",
       "26. 2013-02-23\n",
       "\n",
       "\n"
      ],
      "text/plain": [
       " [1] \"2012-04-18\" \"2012-04-27\" \"2012-05-06\" \"2012-05-18\" \"2012-06-05\"\n",
       " [6] \"2012-06-23\" \"2012-07-09\" \"2012-07-19\" \"2012-07-27\" \"2012-08-27\"\n",
       "[11] \"2012-09-13\" \"2012-09-24\" \"2012-10-07\" \"2012-10-13\" \"2012-10-23\"\n",
       "[16] \"2012-11-01\" \"2012-11-09\" \"2012-11-22\" \"2012-12-02\" \"2012-12-17\"\n",
       "[21] \"2013-01-01\" \"2013-01-14\" \"2013-01-30\" \"2013-02-09\" \"2013-02-15\"\n",
       "[26] \"2013-02-23\""
      ]
     },
     "metadata": {},
     "output_type": "display_data"
    }
   ],
   "source": [
    "# find dates of local minima for hot spring temperatures\n",
    "minima_date_index <- find_peaks(-bento_daily_trim$Ave, m = 5) # minus for minima.\n",
    "hot_minima_dates <- bento_daily_trim[minima_date_index, 1] # dates of hot spring temperature local minima\n",
    "\"Local minima in BENTO average daily temperatures:\"\n",
    "hot_minima_dates"
   ]
  },
  {
   "cell_type": "code",
   "execution_count": 16,
   "metadata": {},
   "outputs": [
    {
     "data": {
      "text/html": [
       "'Local maxima in BENTO average daily temperatures:'"
      ],
      "text/latex": [
       "'Local maxima in BENTO average daily temperatures:'"
      ],
      "text/markdown": [
       "'Local maxima in BENTO average daily temperatures:'"
      ],
      "text/plain": [
       "[1] \"Local maxima in BENTO average daily temperatures:\""
      ]
     },
     "metadata": {},
     "output_type": "display_data"
    },
    {
     "data": {
      "text/html": [
       "<ol class=list-inline>\n",
       "\t<li><time datetime=\"2012-04-21\">2012-04-21</time></li>\n",
       "\t<li><time datetime=\"2012-04-29\">2012-04-29</time></li>\n",
       "\t<li><time datetime=\"2012-05-09\">2012-05-09</time></li>\n",
       "\t<li><time datetime=\"2012-05-15\">2012-05-15</time></li>\n",
       "\t<li><time datetime=\"2012-06-02\">2012-06-02</time></li>\n",
       "\t<li><time datetime=\"2012-06-13\">2012-06-13</time></li>\n",
       "\t<li><time datetime=\"2012-07-02\">2012-07-02</time></li>\n",
       "\t<li><time datetime=\"2012-07-24\">2012-07-24</time></li>\n",
       "\t<li><time datetime=\"2012-08-06\">2012-08-06</time></li>\n",
       "\t<li><time datetime=\"2012-08-15\">2012-08-15</time></li>\n",
       "\t<li><time datetime=\"2012-09-03\">2012-09-03</time></li>\n",
       "\t<li><time datetime=\"2012-09-21\">2012-09-21</time></li>\n",
       "\t<li><time datetime=\"2012-09-30\">2012-09-30</time></li>\n",
       "\t<li><time datetime=\"2012-10-11\">2012-10-11</time></li>\n",
       "\t<li><time datetime=\"2012-11-04\">2012-11-04</time></li>\n",
       "\t<li><time datetime=\"2012-11-17\">2012-11-17</time></li>\n",
       "\t<li><time datetime=\"2012-11-25\">2012-11-25</time></li>\n",
       "\t<li><time datetime=\"2012-12-06\">2012-12-06</time></li>\n",
       "\t<li><time datetime=\"2012-12-14\">2012-12-14</time></li>\n",
       "\t<li><time datetime=\"2012-12-21\">2012-12-21</time></li>\n",
       "\t<li><time datetime=\"2013-01-09\">2013-01-09</time></li>\n",
       "\t<li><time datetime=\"2013-01-25\">2013-01-25</time></li>\n",
       "\t<li><time datetime=\"2013-02-01\">2013-02-01</time></li>\n",
       "\t<li><time datetime=\"2013-02-18\">2013-02-18</time></li>\n",
       "</ol>\n"
      ],
      "text/latex": [
       "\\begin{enumerate*}\n",
       "\\item 2012-04-21\n",
       "\\item 2012-04-29\n",
       "\\item 2012-05-09\n",
       "\\item 2012-05-15\n",
       "\\item 2012-06-02\n",
       "\\item 2012-06-13\n",
       "\\item 2012-07-02\n",
       "\\item 2012-07-24\n",
       "\\item 2012-08-06\n",
       "\\item 2012-08-15\n",
       "\\item 2012-09-03\n",
       "\\item 2012-09-21\n",
       "\\item 2012-09-30\n",
       "\\item 2012-10-11\n",
       "\\item 2012-11-04\n",
       "\\item 2012-11-17\n",
       "\\item 2012-11-25\n",
       "\\item 2012-12-06\n",
       "\\item 2012-12-14\n",
       "\\item 2012-12-21\n",
       "\\item 2013-01-09\n",
       "\\item 2013-01-25\n",
       "\\item 2013-02-01\n",
       "\\item 2013-02-18\n",
       "\\end{enumerate*}\n"
      ],
      "text/markdown": [
       "1. 2012-04-21\n",
       "2. 2012-04-29\n",
       "3. 2012-05-09\n",
       "4. 2012-05-15\n",
       "5. 2012-06-02\n",
       "6. 2012-06-13\n",
       "7. 2012-07-02\n",
       "8. 2012-07-24\n",
       "9. 2012-08-06\n",
       "10. 2012-08-15\n",
       "11. 2012-09-03\n",
       "12. 2012-09-21\n",
       "13. 2012-09-30\n",
       "14. 2012-10-11\n",
       "15. 2012-11-04\n",
       "16. 2012-11-17\n",
       "17. 2012-11-25\n",
       "18. 2012-12-06\n",
       "19. 2012-12-14\n",
       "20. 2012-12-21\n",
       "21. 2013-01-09\n",
       "22. 2013-01-25\n",
       "23. 2013-02-01\n",
       "24. 2013-02-18\n",
       "\n",
       "\n"
      ],
      "text/plain": [
       " [1] \"2012-04-21\" \"2012-04-29\" \"2012-05-09\" \"2012-05-15\" \"2012-06-02\"\n",
       " [6] \"2012-06-13\" \"2012-07-02\" \"2012-07-24\" \"2012-08-06\" \"2012-08-15\"\n",
       "[11] \"2012-09-03\" \"2012-09-21\" \"2012-09-30\" \"2012-10-11\" \"2012-11-04\"\n",
       "[16] \"2012-11-17\" \"2012-11-25\" \"2012-12-06\" \"2012-12-14\" \"2012-12-21\"\n",
       "[21] \"2013-01-09\" \"2013-01-25\" \"2013-02-01\" \"2013-02-18\""
      ]
     },
     "metadata": {},
     "output_type": "display_data"
    }
   ],
   "source": [
    "# find dates of local maxima for hot spring temperatures\n",
    "maxima_date_index <- find_peaks(bento_daily_trim$Ave, m = 5)\n",
    "hot_maxima_dates <- bento_daily_trim[maxima_date_index, 1] # dates of hot spring temperature local maxima\n",
    "\"Local maxima in BENTO average daily temperatures:\"\n",
    "hot_maxima_dates"
   ]
  },
  {
   "cell_type": "code",
   "execution_count": 17,
   "metadata": {},
   "outputs": [
    {
     "data": {
      "text/html": [
       "'Dates when it rained:'"
      ],
      "text/latex": [
       "'Dates when it rained:'"
      ],
      "text/markdown": [
       "'Dates when it rained:'"
      ],
      "text/plain": [
       "[1] \"Dates when it rained:\""
      ]
     },
     "metadata": {},
     "output_type": "display_data"
    },
    {
     "data": {
      "text/html": [
       "<ol class=list-inline>\n",
       "\t<li><time datetime=\"2012-04-19\">2012-04-19</time></li>\n",
       "\t<li><time datetime=\"2012-04-23\">2012-04-23</time></li>\n",
       "\t<li><time datetime=\"2012-04-24\">2012-04-24</time></li>\n",
       "\t<li><time datetime=\"2012-04-25\">2012-04-25</time></li>\n",
       "\t<li><time datetime=\"2012-04-26\">2012-04-26</time></li>\n",
       "\t<li><time datetime=\"2012-04-27\">2012-04-27</time></li>\n",
       "\t<li><time datetime=\"2012-05-04\">2012-05-04</time></li>\n",
       "\t<li><time datetime=\"2012-05-05\">2012-05-05</time></li>\n",
       "\t<li><time datetime=\"2012-05-15\">2012-05-15</time></li>\n",
       "\t<li><time datetime=\"2012-05-16\">2012-05-16</time></li>\n",
       "\t<li><time datetime=\"2012-05-17\">2012-05-17</time></li>\n",
       "\t<li><time datetime=\"2012-05-18\">2012-05-18</time></li>\n",
       "\t<li><time datetime=\"2012-05-25\">2012-05-25</time></li>\n",
       "\t<li><time datetime=\"2012-05-26\">2012-05-26</time></li>\n",
       "\t<li><time datetime=\"2012-05-27\">2012-05-27</time></li>\n",
       "\t<li><time datetime=\"2012-06-04\">2012-06-04</time></li>\n",
       "\t<li><time datetime=\"2012-06-05\">2012-06-05</time></li>\n",
       "\t<li><time datetime=\"2012-06-06\">2012-06-06</time></li>\n",
       "\t<li><time datetime=\"2012-08-18\">2012-08-18</time></li>\n",
       "\t<li><time datetime=\"2012-08-19\">2012-08-19</time></li>\n",
       "\t<li><time datetime=\"2012-09-06\">2012-09-06</time></li>\n",
       "\t<li><time datetime=\"2012-09-08\">2012-09-08</time></li>\n",
       "\t<li><time datetime=\"2012-09-23\">2012-09-23</time></li>\n",
       "\t<li><time datetime=\"2012-09-28\">2012-09-28</time></li>\n",
       "\t<li><time datetime=\"2012-10-09\">2012-10-09</time></li>\n",
       "\t<li><time datetime=\"2012-10-11\">2012-10-11</time></li>\n",
       "\t<li><time datetime=\"2012-10-25\">2012-10-25</time></li>\n",
       "\t<li><time datetime=\"2012-10-26\">2012-10-26</time></li>\n",
       "\t<li><time datetime=\"2012-11-12\">2012-11-12</time></li>\n",
       "\t<li><time datetime=\"2012-11-13\">2012-11-13</time></li>\n",
       "\t<li><time datetime=\"2012-11-14\">2012-11-14</time></li>\n",
       "\t<li><time datetime=\"2012-11-17\">2012-11-17</time></li>\n",
       "\t<li><time datetime=\"2012-11-18\">2012-11-18</time></li>\n",
       "\t<li><time datetime=\"2012-11-19\">2012-11-19</time></li>\n",
       "\t<li><time datetime=\"2012-11-20\">2012-11-20</time></li>\n",
       "\t<li><time datetime=\"2012-11-29\">2012-11-29</time></li>\n",
       "\t<li><time datetime=\"2012-11-30\">2012-11-30</time></li>\n",
       "\t<li><time datetime=\"2012-12-01\">2012-12-01</time></li>\n",
       "\t<li><time datetime=\"2012-12-02\">2012-12-02</time></li>\n",
       "\t<li><time datetime=\"2012-12-03\">2012-12-03</time></li>\n",
       "\t<li><time datetime=\"2012-12-04\">2012-12-04</time></li>\n",
       "\t<li><time datetime=\"2012-12-05\">2012-12-05</time></li>\n",
       "\t<li><time datetime=\"2012-12-06\">2012-12-06</time></li>\n",
       "\t<li><time datetime=\"2013-01-07\">2013-01-07</time></li>\n",
       "\t<li><time datetime=\"2013-01-08\">2013-01-08</time></li>\n",
       "\t<li><time datetime=\"2013-01-09\">2013-01-09</time></li>\n",
       "\t<li><time datetime=\"2013-01-24\">2013-01-24</time></li>\n",
       "\t<li><time datetime=\"2013-01-25\">2013-01-25</time></li>\n",
       "\t<li><time datetime=\"2013-01-26\">2013-01-26</time></li>\n",
       "\t<li><time datetime=\"2013-01-29\">2013-01-29</time></li>\n",
       "\t<li><time datetime=\"2013-01-30\">2013-01-30</time></li>\n",
       "</ol>\n"
      ],
      "text/latex": [
       "\\begin{enumerate*}\n",
       "\\item 2012-04-19\n",
       "\\item 2012-04-23\n",
       "\\item 2012-04-24\n",
       "\\item 2012-04-25\n",
       "\\item 2012-04-26\n",
       "\\item 2012-04-27\n",
       "\\item 2012-05-04\n",
       "\\item 2012-05-05\n",
       "\\item 2012-05-15\n",
       "\\item 2012-05-16\n",
       "\\item 2012-05-17\n",
       "\\item 2012-05-18\n",
       "\\item 2012-05-25\n",
       "\\item 2012-05-26\n",
       "\\item 2012-05-27\n",
       "\\item 2012-06-04\n",
       "\\item 2012-06-05\n",
       "\\item 2012-06-06\n",
       "\\item 2012-08-18\n",
       "\\item 2012-08-19\n",
       "\\item 2012-09-06\n",
       "\\item 2012-09-08\n",
       "\\item 2012-09-23\n",
       "\\item 2012-09-28\n",
       "\\item 2012-10-09\n",
       "\\item 2012-10-11\n",
       "\\item 2012-10-25\n",
       "\\item 2012-10-26\n",
       "\\item 2012-11-12\n",
       "\\item 2012-11-13\n",
       "\\item 2012-11-14\n",
       "\\item 2012-11-17\n",
       "\\item 2012-11-18\n",
       "\\item 2012-11-19\n",
       "\\item 2012-11-20\n",
       "\\item 2012-11-29\n",
       "\\item 2012-11-30\n",
       "\\item 2012-12-01\n",
       "\\item 2012-12-02\n",
       "\\item 2012-12-03\n",
       "\\item 2012-12-04\n",
       "\\item 2012-12-05\n",
       "\\item 2012-12-06\n",
       "\\item 2013-01-07\n",
       "\\item 2013-01-08\n",
       "\\item 2013-01-09\n",
       "\\item 2013-01-24\n",
       "\\item 2013-01-25\n",
       "\\item 2013-01-26\n",
       "\\item 2013-01-29\n",
       "\\item 2013-01-30\n",
       "\\end{enumerate*}\n"
      ],
      "text/markdown": [
       "1. 2012-04-19\n",
       "2. 2012-04-23\n",
       "3. 2012-04-24\n",
       "4. 2012-04-25\n",
       "5. 2012-04-26\n",
       "6. 2012-04-27\n",
       "7. 2012-05-04\n",
       "8. 2012-05-05\n",
       "9. 2012-05-15\n",
       "10. 2012-05-16\n",
       "11. 2012-05-17\n",
       "12. 2012-05-18\n",
       "13. 2012-05-25\n",
       "14. 2012-05-26\n",
       "15. 2012-05-27\n",
       "16. 2012-06-04\n",
       "17. 2012-06-05\n",
       "18. 2012-06-06\n",
       "19. 2012-08-18\n",
       "20. 2012-08-19\n",
       "21. 2012-09-06\n",
       "22. 2012-09-08\n",
       "23. 2012-09-23\n",
       "24. 2012-09-28\n",
       "25. 2012-10-09\n",
       "26. 2012-10-11\n",
       "27. 2012-10-25\n",
       "28. 2012-10-26\n",
       "29. 2012-11-12\n",
       "30. 2012-11-13\n",
       "31. 2012-11-14\n",
       "32. 2012-11-17\n",
       "33. 2012-11-18\n",
       "34. 2012-11-19\n",
       "35. 2012-11-20\n",
       "36. 2012-11-29\n",
       "37. 2012-11-30\n",
       "38. 2012-12-01\n",
       "39. 2012-12-02\n",
       "40. 2012-12-03\n",
       "41. 2012-12-04\n",
       "42. 2012-12-05\n",
       "43. 2012-12-06\n",
       "44. 2013-01-07\n",
       "45. 2013-01-08\n",
       "46. 2013-01-09\n",
       "47. 2013-01-24\n",
       "48. 2013-01-25\n",
       "49. 2013-01-26\n",
       "50. 2013-01-29\n",
       "51. 2013-01-30\n",
       "\n",
       "\n"
      ],
      "text/plain": [
       " [1] \"2012-04-19\" \"2012-04-23\" \"2012-04-24\" \"2012-04-25\" \"2012-04-26\"\n",
       " [6] \"2012-04-27\" \"2012-05-04\" \"2012-05-05\" \"2012-05-15\" \"2012-05-16\"\n",
       "[11] \"2012-05-17\" \"2012-05-18\" \"2012-05-25\" \"2012-05-26\" \"2012-05-27\"\n",
       "[16] \"2012-06-04\" \"2012-06-05\" \"2012-06-06\" \"2012-08-18\" \"2012-08-19\"\n",
       "[21] \"2012-09-06\" \"2012-09-08\" \"2012-09-23\" \"2012-09-28\" \"2012-10-09\"\n",
       "[26] \"2012-10-11\" \"2012-10-25\" \"2012-10-26\" \"2012-11-12\" \"2012-11-13\"\n",
       "[31] \"2012-11-14\" \"2012-11-17\" \"2012-11-18\" \"2012-11-19\" \"2012-11-20\"\n",
       "[36] \"2012-11-29\" \"2012-11-30\" \"2012-12-01\" \"2012-12-02\" \"2012-12-03\"\n",
       "[41] \"2012-12-04\" \"2012-12-05\" \"2012-12-06\" \"2013-01-07\" \"2013-01-08\"\n",
       "[46] \"2013-01-09\" \"2013-01-24\" \"2013-01-25\" \"2013-01-26\" \"2013-01-29\"\n",
       "[51] \"2013-01-30\""
      ]
     },
     "metadata": {},
     "output_type": "display_data"
    }
   ],
   "source": [
    "# find dates when it rained\n",
    "rain_date_index <- which(weather$PrecipitationSumIn > 0)\n",
    "rain_dates <- bento_daily_trim[rain_date_index, 1]\n",
    "\"Dates when it rained:\"\n",
    "rain_dates"
   ]
  },
  {
   "cell_type": "code",
   "execution_count": 18,
   "metadata": {},
   "outputs": [
    {
     "data": {
      "text/html": [
       "'Dates of rainfall in and around hot spring temperature local minima/maxima:'"
      ],
      "text/latex": [
       "'Dates of rainfall in and around hot spring temperature local minima/maxima:'"
      ],
      "text/markdown": [
       "'Dates of rainfall in and around hot spring temperature local minima/maxima:'"
      ],
      "text/plain": [
       "[1] \"Dates of rainfall in and around hot spring temperature local minima/maxima:\""
      ]
     },
     "metadata": {},
     "output_type": "display_data"
    },
    {
     "data": {
      "text/html": [
       "<ol class=list-inline>\n",
       "\t<li><time datetime=\"2012-04-19\">2012-04-19</time></li>\n",
       "\t<li><time datetime=\"2012-04-23\">2012-04-23</time></li>\n",
       "\t<li><time datetime=\"2012-04-24\">2012-04-24</time></li>\n",
       "\t<li><time datetime=\"2012-04-25\">2012-04-25</time></li>\n",
       "\t<li><time datetime=\"2012-04-26\">2012-04-26</time></li>\n",
       "\t<li><time datetime=\"2012-04-27\">2012-04-27</time></li>\n",
       "\t<li><time datetime=\"2012-05-04\">2012-05-04</time></li>\n",
       "\t<li><time datetime=\"2012-05-05\">2012-05-05</time></li>\n",
       "\t<li><time datetime=\"2012-05-15\">2012-05-15</time></li>\n",
       "\t<li><time datetime=\"2012-05-16\">2012-05-16</time></li>\n",
       "\t<li><time datetime=\"2012-05-17\">2012-05-17</time></li>\n",
       "\t<li><time datetime=\"2012-06-04\">2012-06-04</time></li>\n",
       "\t<li><time datetime=\"2012-09-06\">2012-09-06</time></li>\n",
       "\t<li><time datetime=\"2012-09-08\">2012-09-08</time></li>\n",
       "\t<li><time datetime=\"2012-09-23\">2012-09-23</time></li>\n",
       "\t<li><time datetime=\"2012-09-28\">2012-09-28</time></li>\n",
       "\t<li><time datetime=\"2012-10-09\">2012-10-09</time></li>\n",
       "\t<li><time datetime=\"2012-10-11\">2012-10-11</time></li>\n",
       "\t<li><time datetime=\"2012-10-25\">2012-10-25</time></li>\n",
       "\t<li><time datetime=\"2012-10-26\">2012-10-26</time></li>\n",
       "\t<li><time datetime=\"2012-11-17\">2012-11-17</time></li>\n",
       "\t<li><time datetime=\"2012-11-18\">2012-11-18</time></li>\n",
       "\t<li><time datetime=\"2012-11-19\">2012-11-19</time></li>\n",
       "\t<li><time datetime=\"2012-11-20\">2012-11-20</time></li>\n",
       "\t<li><time datetime=\"2012-11-29\">2012-11-29</time></li>\n",
       "\t<li><time datetime=\"2012-11-30\">2012-11-30</time></li>\n",
       "\t<li><time datetime=\"2012-12-01\">2012-12-01</time></li>\n",
       "\t<li><time datetime=\"2012-12-04\">2012-12-04</time></li>\n",
       "\t<li><time datetime=\"2012-12-05\">2012-12-05</time></li>\n",
       "\t<li><time datetime=\"2012-12-06\">2012-12-06</time></li>\n",
       "\t<li><time datetime=\"2013-01-07\">2013-01-07</time></li>\n",
       "\t<li><time datetime=\"2013-01-08\">2013-01-08</time></li>\n",
       "\t<li><time datetime=\"2013-01-09\">2013-01-09</time></li>\n",
       "\t<li><time datetime=\"2013-01-24\">2013-01-24</time></li>\n",
       "\t<li><time datetime=\"2013-01-25\">2013-01-25</time></li>\n",
       "\t<li><time datetime=\"2013-01-26\">2013-01-26</time></li>\n",
       "\t<li><time datetime=\"2013-01-29\">2013-01-29</time></li>\n",
       "\t<li><time datetime=\"2013-01-30\">2013-01-30</time></li>\n",
       "</ol>\n"
      ],
      "text/latex": [
       "\\begin{enumerate*}\n",
       "\\item 2012-04-19\n",
       "\\item 2012-04-23\n",
       "\\item 2012-04-24\n",
       "\\item 2012-04-25\n",
       "\\item 2012-04-26\n",
       "\\item 2012-04-27\n",
       "\\item 2012-05-04\n",
       "\\item 2012-05-05\n",
       "\\item 2012-05-15\n",
       "\\item 2012-05-16\n",
       "\\item 2012-05-17\n",
       "\\item 2012-06-04\n",
       "\\item 2012-09-06\n",
       "\\item 2012-09-08\n",
       "\\item 2012-09-23\n",
       "\\item 2012-09-28\n",
       "\\item 2012-10-09\n",
       "\\item 2012-10-11\n",
       "\\item 2012-10-25\n",
       "\\item 2012-10-26\n",
       "\\item 2012-11-17\n",
       "\\item 2012-11-18\n",
       "\\item 2012-11-19\n",
       "\\item 2012-11-20\n",
       "\\item 2012-11-29\n",
       "\\item 2012-11-30\n",
       "\\item 2012-12-01\n",
       "\\item 2012-12-04\n",
       "\\item 2012-12-05\n",
       "\\item 2012-12-06\n",
       "\\item 2013-01-07\n",
       "\\item 2013-01-08\n",
       "\\item 2013-01-09\n",
       "\\item 2013-01-24\n",
       "\\item 2013-01-25\n",
       "\\item 2013-01-26\n",
       "\\item 2013-01-29\n",
       "\\item 2013-01-30\n",
       "\\end{enumerate*}\n"
      ],
      "text/markdown": [
       "1. 2012-04-19\n",
       "2. 2012-04-23\n",
       "3. 2012-04-24\n",
       "4. 2012-04-25\n",
       "5. 2012-04-26\n",
       "6. 2012-04-27\n",
       "7. 2012-05-04\n",
       "8. 2012-05-05\n",
       "9. 2012-05-15\n",
       "10. 2012-05-16\n",
       "11. 2012-05-17\n",
       "12. 2012-06-04\n",
       "13. 2012-09-06\n",
       "14. 2012-09-08\n",
       "15. 2012-09-23\n",
       "16. 2012-09-28\n",
       "17. 2012-10-09\n",
       "18. 2012-10-11\n",
       "19. 2012-10-25\n",
       "20. 2012-10-26\n",
       "21. 2012-11-17\n",
       "22. 2012-11-18\n",
       "23. 2012-11-19\n",
       "24. 2012-11-20\n",
       "25. 2012-11-29\n",
       "26. 2012-11-30\n",
       "27. 2012-12-01\n",
       "28. 2012-12-04\n",
       "29. 2012-12-05\n",
       "30. 2012-12-06\n",
       "31. 2013-01-07\n",
       "32. 2013-01-08\n",
       "33. 2013-01-09\n",
       "34. 2013-01-24\n",
       "35. 2013-01-25\n",
       "36. 2013-01-26\n",
       "37. 2013-01-29\n",
       "38. 2013-01-30\n",
       "\n",
       "\n"
      ],
      "text/plain": [
       " [1] \"2012-04-19\" \"2012-04-23\" \"2012-04-24\" \"2012-04-25\" \"2012-04-26\"\n",
       " [6] \"2012-04-27\" \"2012-05-04\" \"2012-05-05\" \"2012-05-15\" \"2012-05-16\"\n",
       "[11] \"2012-05-17\" \"2012-06-04\" \"2012-09-06\" \"2012-09-08\" \"2012-09-23\"\n",
       "[16] \"2012-09-28\" \"2012-10-09\" \"2012-10-11\" \"2012-10-25\" \"2012-10-26\"\n",
       "[21] \"2012-11-17\" \"2012-11-18\" \"2012-11-19\" \"2012-11-20\" \"2012-11-29\"\n",
       "[26] \"2012-11-30\" \"2012-12-01\" \"2012-12-04\" \"2012-12-05\" \"2012-12-06\"\n",
       "[31] \"2013-01-07\" \"2013-01-08\" \"2013-01-09\" \"2013-01-24\" \"2013-01-25\"\n",
       "[36] \"2013-01-26\" \"2013-01-29\" \"2013-01-30\""
      ]
     },
     "metadata": {},
     "output_type": "display_data"
    }
   ],
   "source": [
    "# Find potential dates that obey either criteria: 1) dates when\n",
    "# it rained 0-7 days before a local minimum in BENTO temperature readings,\n",
    "# and 2) dates when it rained within 1 day of a local maximum.\n",
    "potential_dates <- c()\n",
    "for (date in rain_dates){\n",
    "  # Check if any local minima in hot spring temperatures occur\n",
    "  # 0-7 days after a rain event.\n",
    "  for (hot_date in hot_minima_dates){\n",
    "    result <- findInterval(as.numeric(date),\n",
    "      c(as.numeric(hot_date)-7, as.numeric(hot_date))) == 1\n",
    "    if (result){\n",
    "      potential_dates <- c(potential_dates, date)\n",
    "    }\n",
    "  }\n",
    "  # Check if any local maxima in hot spring temperatures occur\n",
    "  # within two days of a rain event.\n",
    "  for (hot_date in hot_maxima_dates){\n",
    "    result <- findInterval(as.numeric(date),\n",
    "      c(as.numeric(hot_date)-2, as.numeric(hot_date)+2)) == 1\n",
    "    if (result){\n",
    "      potential_dates <- c(potential_dates, date)\n",
    "    }\n",
    "  }\n",
    "}\n",
    "\n",
    "potential_dates <- unique(potential_dates)\n",
    "potential_dates <- as.Date(potential_dates, origin = \"1970-1-1\") # R's date origin\n",
    "\"Dates of rainfall in and around hot spring temperature local minima/maxima:\"\n",
    "potential_dates"
   ]
  },
  {
   "cell_type": "code",
   "execution_count": 19,
   "metadata": {},
   "outputs": [
    {
     "data": {
      "image/png": "[encoded data removed]",
      "text/plain": [
       "plot without title"
      ]
     },
     "metadata": {},
     "output_type": "display_data"
    }
   ],
   "source": [
    "# Plot with rainfall indicated\n",
    "x <- weather$Date\n",
    "y <- bento_daily_trim$Ave\n",
    "z <- weather$TemperatureAvgC\n",
    "par(mar = c(5, 4, 4, 4) + 0.3)  # Leave space for z axis\n",
    "plot(x, y, type = \"l\",\n",
    "  xlab = \"Date\",\n",
    "  ylab = \"\",\n",
    "  col = \"red\", lwd = 2)\n",
    "\n",
    "# get rain magnitude (inches)\n",
    "rain_mag <- weather[match(potential_dates, weather[, \"Date\"]), \"PrecipitationSumIn\"]\n",
    "\n",
    "# vary point size by rain magnitude (larger = greater than 0.5 inches of rain)\n",
    "cex.val <- 1 + (rain_mag >= 0.1) - (rain_mag < 0.1)*0.5\n",
    "\n",
    "# add points on plot to show rain events\n",
    "points(potential_dates, bento_daily_trim[match(potential_dates, bento_daily_trim[, 1]), \"Ave\"],\n",
    "  pch = 19, col = \"black\", cex = cex.val)\n",
    "\n",
    "# create the rest of the plot\n",
    "mtext(expression(paste(\"Average hot spring temp. [\",degree,\"C]\")), side=2, line=3, col = \"red\")\n",
    "par(new = TRUE)\n",
    "# plot(x, z, type = \"l\", axes = FALSE, bty = \"n\", xlab = \"\", ylab = \"\",\n",
    "#   col = \"blue\", lwd = 2)\n",
    "# axis(side = 4, at = pretty(range(z)))\n",
    "# mtext(expression(paste(\"Average air temp. [\",degree,\"C]\")), side=4, line=3, col = \"blue\")\n",
    "\n",
    "legend(\"topright\", legend=c(\"Rainfall >= 0.1 inches\", \"Rainfall < 0.1 inches\"), pch = c(19, 19), pt.cex = c(2, 0.5) )\n"
   ]
  },
  {
   "cell_type": "markdown",
   "metadata": {},
   "source": [
    "From these results, it is clear that precipitation is not responsible for all local minima in average daily hot spring temperature as there are many temperature dips, especially during the summer months, without concurrent rainfall. That said, larger rainfall events may cause major temperature dips, such as the one observed at the end of November and early December that occur around the same time as a ~10 $^{\\circ}$C temperature decrease."
   ]
  },
  {
   "cell_type": "markdown",
   "metadata": {},
   "source": [
    "Comparison of climate and hot spring data warrant further study."
   ]
  },
  {
   "cell_type": "code",
   "execution_count": null,
   "metadata": {
    "collapsed": true
   },
   "outputs": [],
   "source": []
  }
 ],
 "metadata": {
  "kernelspec": {
   "display_name": "R",
   "language": "R",
   "name": "ir"
  },
  "language_info": {
   "codemirror_mode": "r",
   "file_extension": ".r",
   "mimetype": "text/x-r-source",
   "name": "R",
   "pygments_lexer": "r",
   "version": "3.3.2"
  }
 },
 "nbformat": 4,
 "nbformat_minor": 2
}
